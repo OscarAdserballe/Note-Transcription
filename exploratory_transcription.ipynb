{
 "cells": [
  {
   "cell_type": "markdown",
   "metadata": {},
   "source": [
    "# Outline\n",
    "\n",
    "1. Transcribe everything first time around from a given folder as clsoely as possible in JSON-format: `list[Pages] -> str`\n",
    "2. Get an LLM to classify it into topics based on the text: `str -> list[Topics]`\n",
    "3. Transcribe on a topic-level instead: `list[Topics] (images) -> list[Topics] (transcribed)`"
   ]
  },
  {
   "cell_type": "markdown",
   "metadata": {},
   "source": [
    "# Gemini initialisation and Prep of Notes"
   ]
  },
  {
   "cell_type": "code",
   "execution_count": 45,
   "metadata": {},
   "outputs": [],
   "source": [
    "from google import genai\n",
    "import os\n",
    "from pathlib import Path\n",
    "from typing import Optional\n",
    "import PIL.Image\n",
    "\n",
    "GEMINI_API_KEY = os.getenv(\"GEMINI_API_KEY\") \n",
    "\n",
    "class GeminiFiles:\n",
    "    def __init__(self, response_schema, model_name=\"gemini-2.0-flash\"):\n",
    "        self.client = genai.Client(api_key=GEMINI_API_KEY)\n",
    "        self.model_name = model_name\n",
    "        self.uploaded_files = {}\n",
    "        self.response_schema = response_schema\n",
    "\n",
    "    def prompt_with_image(self, prompt: str, image_paths: Path | list[Path]):\n",
    "        if isinstance(image_paths, Path):\n",
    "            image_paths = [image_paths]\n",
    "        \n",
    "        print(image_paths)\n",
    "\n",
    "        image_paths = [PIL.Image.open(image_path) for image_path in image_paths]\n",
    "        contents = [prompt] + image_paths\n",
    "\n",
    "        response = self.client.models.generate_content(\n",
    "            model=self.model_name,\n",
    "            contents=contents,\n",
    "            config={\n",
    "                \"response_mime_type\": \"application/json\",\n",
    "                \"response_schema\": self.response_schema\n",
    "            }\n",
    "        )\n",
    "        return response.parsed\n",
    "\n",
    "    def query(self, prompt: str):\n",
    "        model_info = [prompt]\n",
    "\n",
    "        response = self.client.models.generate_content(\n",
    "            model=self.model_name,\n",
    "            contents=model_info,\n",
    "            config={\n",
    "                \"response_mime_type\": \"application/json\",\n",
    "                \"response_schema\": self.response_schema\n",
    "            }\n",
    "        )\n",
    "        return response.parsed\n",
    "\n"
   ]
  },
  {
   "cell_type": "code",
   "execution_count": 2,
   "metadata": {
    "lines_to_next_cell": 2
   },
   "outputs": [],
   "source": [
    "from pathlib import Path\n",
    "\n",
    "folder_path = \"/Users/oscarjuliusadserballe/Google Drive/My Drive/Handwritten Notes\"\n",
    "classes = Path(folder_path)\n",
    "\n",
    "# Create a dictionary to store folders and their files\n",
    "folder_files = {}\n",
    "\n",
    "for root, dirs, files in classes.walk():\n",
    "    relative_path = Path(root).relative_to(classes)\n",
    "    \n",
    "    if str(relative_path) == '.':\n",
    "        continue\n",
    "        \n",
    "    image_files = [f for f in files if f.lower().endswith(('.png', '.jpg', '.jpeg', '.gif', '.bmp'))]\n",
    "    \n",
    "    if image_files:\n",
    "        folder_files[relative_path] = image_files\n",
    "\n",
    "# for folder, files in folder_files.items():\n",
    "#     print(f\"\\nFolder: {folder}\")\n",
    "#     for file in files:\n",
    "#         print(f\"  - {file}\")\n",
    "#         print(f\"folder_path: {folder_path / folder / file}\")"
   ]
  },
  {
   "cell_type": "code",
   "execution_count": 3,
   "metadata": {},
   "outputs": [
    {
     "data": {
      "text/plain": [
       "dict_keys([PosixPath('Business Strategy and SDGs'), PosixPath('15.455x'), PosixPath('KKV'), PosixPath('Jurisprudence'), PosixPath('Isaiah Berlin'), PosixPath('Measurement'), PosixPath('18.01'), PosixPath('14.750x'), PosixPath('CS'), PosixPath('Opting out of the EU'), PosixPath('Case Studies and Theory Development in the Social Sciences'), PosixPath('6.86x'), PosixPath('15.435x'), PosixPath('6.041'), PosixPath('Epistemology in the Ancient World'), PosixPath('14.740x'), PosixPath('International Economics Notes'), PosixPath('Concepts of Security'), PosixPath('IPE'), PosixPath('18.03'), PosixPath('MGMT2670'), PosixPath('CPE'), PosixPath('China under Mao'), PosixPath('Principles of Sustainable Finance'), PosixPath('HW 6'), PosixPath('18.6501x'), PosixPath('Financial Accounting'), PosixPath('Mathematical Thinking and Logic')])"
      ]
     },
     "execution_count": 3,
     "metadata": {},
     "output_type": "execute_result"
    }
   ],
   "source": [
    "folder_files.keys()"
   ]
  },
  {
   "cell_type": "code",
   "execution_count": 4,
   "metadata": {},
   "outputs": [],
   "source": [
    "test_folder = Path('15.455x')"
   ]
  },
  {
   "cell_type": "markdown",
   "metadata": {},
   "source": [
    "## 1. Transcribe raw"
   ]
  },
  {
   "cell_type": "code",
   "execution_count": 5,
   "metadata": {},
   "outputs": [],
   "source": [
    "from transcription_prompts import FIRST_TRANSCRIPTION_PROMPT"
   ]
  },
  {
   "cell_type": "code",
   "execution_count": 6,
   "metadata": {},
   "outputs": [],
   "source": [
    "from pydantic import BaseModel\n",
    "\n",
    "class Page(BaseModel):\n",
    "    content: str\n",
    "\n",
    "gemini_pages = GeminiFiles(response_schema=Page)"
   ]
  },
  {
   "cell_type": "code",
   "execution_count": 7,
   "metadata": {},
   "outputs": [
    {
     "name": "stderr",
     "output_type": "stream",
     "text": [
      "  0%|          | 0/26 [00:00<?, ?it/s]WARNING: All log messages before absl::InitializeLog() is called are written to STDERR\n",
      "I0000 00:00:1740174797.417964 6081329 check_gcp_environment_no_op.cc:29] ALTS: Platforms other than Linux and Windows are not supported\n",
      "100%|██████████| 26/26 [03:42<00:00,  8.58s/it]\n"
     ]
    }
   ],
   "source": [
    "from tqdm import tqdm\n",
    "pages_transcribed = {}\n",
    "\n",
    "for page in tqdm(folder_files[test_folder]):\n",
    "    pages_transcribed[page] = gemini_pages.prompt_with_image(\n",
    "        FIRST_TRANSCRIPTION_PROMPT, Path(folder_path / test_folder / page)\n",
    "    )"
   ]
  },
  {
   "cell_type": "code",
   "execution_count": 10,
   "metadata": {},
   "outputs": [
    {
     "data": {
      "text/plain": [
       "{'15.455x(22).jpg': {'content': \"Fixed Income Modelling\\nItô calc. in new context.\\n↳ insight: r's dynamic and stochastic, there's a term structure and they too change dynamically and stochastically.\\nWhich interest rates to use?\\n\\nA first model for bonds: elapeds only on short rate $r_t$ given by $y_t$, and $dy_t = adt + bdBr$\\n$V = V(t, T, r_t)$\\nCan we construct PDE for bonds?\\nMain idea: Use portfolio of bonds (two) to elin risk founded on premise that all bonds'\\n\\nSingle movements bc. of changes in r. Than, finally,\\ndepository\\n↓\\nPDE that is ind. of maturity or anything specific.\\nWe can elim to a bond itself. Setting Zero coupon bond as risk by boundary condition (anchoring PDF).\\nshorting $q_2$\\nUsing Itô: $dV_i = \\\\left[\\\\frac{\\\\partial V_i}{\\\\partial t} + \\\\frac{b^2}{2} \\\\frac{\\\\partial^2 V}{\\\\partial r^2}\\\\right] dt + \\\\frac{\\\\partial V_i}{\\\\partial r} dy$\\nPortfolio: $\\\\pi = q_1 V_1 + q_2 V_2$ and Zero risk w.\\n$\\\\frac{q_1}{q_2} = -\\\\frac{\\\\partial V_2 / \\\\partial r}{\\\\partial V_1 / \\\\partial r}$ \\n\\nrisk-free short rate\\nearned.\\n\\nThen, $d\\\\pi = q_1 dV_1 + q_2 dV_2 = \\\\gamma \\\\pi dt$\\n\\n\\n$\\\\sum_{i=1,2} q_i \\\\left[ \\\\frac{\\\\partial V_i}{\\\\partial t} + \\\\frac{b^2}{2} \\\\frac{\\\\partial^2 V_i}{\\\\partial r^2} \\\\right] dt = \\\\gamma (q_1 V_1 + q_2 V_2) dt$\\n\\nSep variables to solve setting $q_1 = \\\\frac{1}{\\\\partial V_1 / \\\\partial r}$, $q_2 = \\\\frac{-1}{\\\\partial V_2 / \\\\partial r} \\\\rightarrow$ consis or $\\\\frac{q_1}{q_2} =$\\nPurrly\\n$\\\\frac{\\\\frac{\\\\partial V_1}{\\\\partial t} + \\\\frac{b^2}{2} \\\\frac{\\\\partial^2 V_1}{\\\\partial r^2} - \\\\gamma V_1}{\\\\frac{\\\\partial V_1}{\\\\partial r}} = \\\\frac{\\\\frac{\\\\partial V_2}{\\\\partial t} + \\\\frac{b^2}{2} \\\\frac{\\\\partial^2 V_2}{\\\\partial r^2} - \\\\gamma V_2}{\\\\frac{\\\\partial V_2}{\\\\partial r}} = [F(t, r)]$\"},\n",
       " '15.455x(18).jpg': {'content': \"Week 5 : Itô Calc\\nWe took d(As) as simply Ads\\nLs result was correct but drawdown wrong.\\nd(As) != Ads\\nOur na\\nLs (d(As) = Ads dS dA + dAds) 'Chain rule'\\nWe need a better view of our portfolio rebalancing (w. a bunch of assumptions) End of day rebalnong\\nQ changes, P\\nOpen initl pos.\\nClose poita\\nIntra-day mark-to-m\\nP change, Q\\nAss\\nFor portfolio in value 300 of stock & buas\\nX_t^{pa} = q_0S_0 + C_0M_0 >=0\\nX_t^{pret} - X_{t-1} = 0 (rebalance doesn't change valu)\\n=> (S_t - S_{t-1})(q_t - q_{t-1}) + (M_t - M_{t-1})(C_t - C_{t-1}) = 0\\nIn continuous\\nIn cont. Hmy the : $[Sdq + MdC + dSdq + dMdC = 0]$\\n=> self-financing cond. => value doesn't change.\\nOur new portfolio containing this dynamically rebalanced pos\\nπ = V + qS + CM\\nNow use market day where quantities fixed\\nΔπ = ΔV + q_{t+1} ΔS + C_{t+1} ΔM => dqs + dcM\\nContinuous : dπ = dV + d(qS + CM)\\nUsing now chain rule: dπ = dV + (q dS + CdM)\\n+(Sdq + MdC + dqdS + dCdM) => 0\"},\n",
       " '15.455x(14).jpg': {'content': \"Ito process applied\\nB.V. drift : $dS_t = \\\\mu dt + \\\\sigma dB_t$\\nIs a model for stock prices? $S_T = S_0 + \\\\mu T + \\\\sigma (B_T - B_0)$\\n$\\\\int_0^T dS = \\\\mu \\\\int_0^T dt + \\\\sigma \\\\int_0^T dB_t$\\n$= S_T - S_0 = \\\\mu T + \\\\sigma (B_T - B_0)$\\n$\\\\rightarrow random$ as random $\\\\rightarrow$ price\\nGen. rejected as model as allows to go negative.\\nInstead geometric Brownian motion w drift.\\n$dS_t = (\\\\mu S_t)dt + (\\\\sigma S_t)dB_t \\\\rightarrow$ Ito process\\nProof $d(log S_t) = (\\\\mu - \\\\frac{\\\\sigma^2}{2})dt + \\\\sigma dB_t$\\n$S_T = S_0 . e^{(\\\\mu - \\\\frac{\\\\sigma^2}{2})T + \\\\sigma (B_T - B_0)}$\\nApplies Ito's lemma :\\n$F = Log S \\\\rightarrow$ inherited in log of stock price\\n$\\\\frac{\\\\partial F}{\\\\partial t} = 0$, $\\\\frac{\\\\partial F}{\\\\partial S} = \\\\frac{1}{S}$, $\\\\frac{\\\\partial ^2F}{\\\\partial S^2} = -\\\\frac{1}{S^2}$\\n$d(Log S) = \\\\frac{\\\\partial F}{\\\\partial S} dS + \\\\frac{(\\\\partial S)^2}{2} \\\\frac{\\\\partial ^2F}{\\\\partial S^2} dt$\\n$= (\\\\frac{1}{S}) dS + \\\\frac{(\\\\sigma S)^2}{2} (-\\\\frac{1}{S^2})dt$\\n$= [\\\\mu dt + \\\\sigma dB] - \\\\frac{\\\\sigma^2}{2} dt$\\n$\\\\Rightarrow d(Log S) = [\\\\mu - \\\\frac{\\\\sigma^2}{2}]dt + \\\\sigma dB$\\nProp\\n$\\\\rightarrow$ Notice accordingly to Ito process, drifty you turns\"},\n",
       " '15.455x(2).jpg': {'content': \"Continuous - Time Finance 1 2\\nAnd to get in fr~ at $S_T$ just apply exp(.)\\n$\\\\frac{S_T}{S_0} = S_0e^{(\\\\mu - \\\\frac{\\\\sigma^2}{2})T + \\\\sigma (B_T - B_t)}$\\nNew problem: or $\\\\lim_{s \\\\to 0} Holding = 0$ $S_T$ can\\nnever go to zero.\\n| Ornstein - Uhlenbeck | process : Mean-reversion dynato. \\n$dS_T = \\\\lambda(S - S_T)dt + \\\\sigma dB_t$ tored $\\\\bar{S}$\\n$\\\\Rightarrow$ good for interest rates bec. of that mean,\\nstraight of mean-reversion.\\n| Cox - Ingersoll - Ross | Another fr term structure\\nIt avoids origin for $\\\\lambda\\\\bar{\\\\rho} > \\\\sigma^2 / 4$ as\\ncan bec shown experts using Ito.\\n$d\\\\rho_t = \\\\lambda(\\\\bar{\\\\rho} - \\\\rho_t)dt + \\\\sigma \\\\sqrt{\\\\rho_t} dB_t$\\nNote problem-child we'll have to use Ito on Let $F = \\\\sqrt{\\\\rho_t}$\\nBlack - Scholes Method: (Dynamic hedging to eliminate Randomess,\\nLet $V = V(t, S)$ , Geontre BW too , $dS = (\\\\mu S)dt + (\\\\sigma S) dB$\\nYada, Yada, Ito to git dV.\\nBut brilliant step is to Consider $\\\\Pi$, specifically\\nhow $d\\\\Pi$ if we use dynamic hedging exactly equal\\nto $r_f!$ $\\\\Rightarrow$ Simplification, $\\\\Rightarrow$ Just stick to this answer...\\n$\\\\boxed{\\\\Pi = V - AS}$ $\\\\Leftrightarrow d\\\\Pi = (r\\\\Pi)dt = dV - d(AS)$\\nas $\\\\boxed{\\\\Delta = \\\\frac{\\\\partial V}{\\\\partial S}}$ $d(AS) \\\\neq \\\\Delta dS$ this is challenge.\\nChain rule, $d(\\\\Delta S) = d\\\\Delta S + d\\\\Delta dS + \\\\Delta dS$\\n$\\\\Rightarrow$ Apply Intuition from discrete portfolio rebalancing\\nfor some self-financing portfolio of stocks there\"},\n",
       " '15.455x(3).jpg': {'content': \"We dynamic helsing property - too advanced, see\\nSlides instead\\n$L> |\\\\frac{\\\\partial V}{\\\\partial t} - \\\\frac{(\\\\sigma S)^2}{2} \\\\frac{\\\\partial^2 V}{\\\\partial S^2} + rS \\\\frac{\\\\partial V}{\\\\partial S} - rV = 0|$\\nWhen solving PDEs in finance, we need to\\nget accustomed to using terminal rather than initial conditions.\\nVery powerful tiny adjustments exist for\\nBlack - Scholes randomly it's useful for commodities.\\n$\\\\lambda R$, Stocks u. elius.\\nSolving Black - Scholes: Clever substitutions until\\nwe get the much better understood heat eq.\\nBefore we do that, (bonds.)\\nkey step, hedge interest rate risk w. specific parking\\n$\\\\Pi = q_1 U_1 + q_2 V_n$, $\\\\frac{\\\\partial \\\\Pi}{\\\\partial t} = 0 \\\\implies q_1 \\\\frac{\\\\partial U_1}{\\\\partial y} + q_2 \\\\frac{\\\\partial V_2}{\\\\partial y} = 0$\\n$\\\\implies \\\\frac{q_1}{q_2} = - \\\\frac{\\\\partial V_2 / \\\\partial y}{\\\\partial U_1 / \\\\partial y} $\\n$\\\\implies$ both depends\\non same stochastic shut cut, $y$.\\nThen, we use Itô on the following and\\nchoose $q_1$ and $q_2$ strategically to allow us to\\nseparate $V_1$ and $V_2$ whilst fulfilling ratio spacing\\n$d \\\\Pi = q_1 dV_1 + q_2 dV_2 = \\\\gamma \\\\Pi dt$ (using Itô on both $V_1, V_2$)\\nThen we discover PDE to be ind. at $T_y$ (bond-partic probs)\\n(See ppt for different models for spot rates)\\nNote, when trying to deduce an Ansatz, it's exactly\\na q of looking how we might expect it to\\nbehave, e.g. obviously en $exp(.)$ Ansatz.\\nThe best result we can use is\\nthe fact that a Guassian is a sol'n to\\nthe diffusion eq'n, and we can General\\na ign. solution from that for any terminal cond.\"},\n",
       " '15.455x(15).jpg': {'content': \"Ornstein - Uhlenbeck process : continuous analogue\\n\\n$dS_t = \\\\lambda (\\\\overline{S} - S_t) dt + \\\\sigma d B_t$ as AR(1)\\n$\\\\underbrace{\\\\lambda(\\\\overline{S} - S_t)}_{mean-reverting \\\\, term}$\\n\\nCox - Ingersoll - Ross for $\\\\bar{i}$ and term structure: \\n\\n$dp_t = \\\\lambda (\\\\overline{p} - p_t) dt + \\\\sigma \\\\sqrt{p_t} dB_t$\\n\\nDeriving Black - Scholes\\n\\nLet $V = V(t, S)$ and $dS = (\\\\mu S) dt + (\\\\sigma S)dB$\\n\\n$dV = (\\\\frac{\\\\partial V}{\\\\partial t} + \\\\frac{(\\\\sigma S)^2}{2} \\\\frac{\\\\partial^2 V}{\\\\partial S^2}) dt + (\\\\frac{\\\\partial V}{\\\\partial S})dS$\\n\\n(By Ito's lemma) $\\\\underbrace{(\\\\frac{\\\\partial V}{\\\\partial S})dS}_{Stochastic \\\\, part}$ $\\\\rightarrow$ Mistake\\n\\nNow, $ \\\\Pi \\\\equiv V - \\\\Delta S$ , then $d\\\\Pi = dV - \\\\Delta dS$ for $\\\\Delta$ constant\\n\\n$= (\\\\frac{\\\\partial V}{\\\\partial t} + \\\\frac{(\\\\sigma S)^2}{2} \\\\frac{\\\\partial^2 V}{\\\\partial S^2}) dt + (\\\\frac{\\\\partial V}{\\\\partial S} - \\\\Delta) dS$\\n$\\\\underbrace{(\\\\frac{\\\\partial V}{\\\\partial t} + \\\\frac{(\\\\sigma S)^2}{2} \\\\frac{\\\\partial^2 V}{\\\\partial S^2}) dt}_{deterministic \\\\, path}$   $\\\\underbrace{(\\\\frac{\\\\partial V}{\\\\partial S} - \\\\Delta) dS}_{Stochastic \\\\, part}$\\n\\nNow let $ \\\\Delta$ be set s.t. hedging portfolio\\n\\n$\\\\implies$ should earn risk-free rate ($r_f$) , and we get $\\\\Delta = \\\\frac{\\\\partial V}{\\\\partial S}$\\n\\nget a deterministic PDE\\n\\n$d\\\\Pi = (r_f \\\\Pi) dt = r_f(V - \\\\Delta S) dt = (r_f V - r_f S \\\\frac{\\\\partial V}{\\\\partial S}) dt$\\n\\n$\\\\implies d\\\\Pi = (r_f \\\\Pi) dt  \\\\implies (\\\\frac{\\\\partial V}{\\\\partial t} + \\\\frac{(\\\\sigma S)^2}{2} \\\\frac{\\\\partial^2 V}{\\\\partial S^2}) dt = (r_f V - r_f S \\\\frac{\\\\partial V}{\\\\partial S}) dt$\\n\\nRearrange and set to zero, and wills, we get a deterministic PDE $\\\\implies$\\n\\n$\\\\boxed{\\\\frac{\\\\partial V}{\\\\partial t} + r_f S \\\\frac{\\\\partial V}{\\\\partial S} + \\\\frac{\\\\sigma^2 S^2}{2} \\\\frac{\\\\partial^2 V}{\\\\partial S^2} - r_f V = 0}$\\n\\n$\\\\implies$ BS - PDE. But it's w. boundary cond. that solution naturally becomes relevant.\"},\n",
       " '15.455x(19).jpg': {'content': \"$\\\\partial \\\\pi = dV - qds + Caly$\\\\newline$\\\\partial \\\\pi = dV + qds + r C\\\\partial dt = dV + qds + r(\\\\pi - V - qS) d$$\\\\newline$\\\\text{Now, by Ito's lemma}$$\\\\newline$d\\\\pi = (\\\\frac{\\\\partial V}{\\\\partial t} + \\\\tau \\\\frac{(\\\\sigma S)^2}{2} \\\\frac{\\\\partial^2V}{\\\\partial S^2})dt + (\\\\frac{\\\\partial V}{\\\\partial S} )ds + r(\\\\pi - V - qS)dt$$\\\\newline$\\\\text{Now } q(t) = -\\\\frac{\\\\partial V}{\\\\partial S} = -\\\\Delta $\\\\rightarrow \\\\text{ And now this refino }$$\\\\newline$\\\\text{Sut to zero w. rp now thack }$$\\\\newline$\\\\text{that we dynamically rebal. }$$\\\\newline$\\\\text{to elindnate stochastic pul. }$$\\\\newline$\\\\text{thera's no stochastic/rishy term:}$$\\\\newline$d\\\\pi_{\\\\pi = 0} = 0 = (\\\\frac{\\\\partial V}{\\\\partial t} + \\\\tau \\\\frac{(\\\\sigma S)^2}{2} \\\\frac{\\\\partial^2V}{\\\\partial S^2} + rS \\\\frac{\\\\partial V}{\\\\partial S} - rV = 0$$\\\\newline$y d\\\\pi = \\\\pi dl$$\\\\newline$\\\\text{POE now properly derived. }$$\\\\newline$\\\\text{W. options we're not setting initial condition level}$$\\\\newline$\\\\text{terminal card. and solving far initial card,}$$\\\\newline$\\\\text{POE assumption}$$\\\\newline$\\\\rightarrow \\\\text{ Lognormal, geometric Brownian motion,}$$\\\\newline$\\\\text{const. volatility (no divs.}$$\\\\newline$\\\\text{with divs (const installmen us discrete though);}$$\\\\newline$d\\\\pi = (rv - AS (r - D) dt$$\\\\newline$\\\\rightarrow \\\\frac{\\\\partial V}{\\\\partial t} + \\\\frac{\\\\sigma^2 S^2}{2} \\\\frac{\\\\partial^2 V}{\\\\partial S^2} + (r - D)S \\\\frac{\\\\partial V}{\\\\partial S} - rV = 0$$\\\\newline$\\\\text{And lots of other extensions.}$\"},\n",
       " '15.455x(23).jpg': {'content': \"All maturities thus share same PDE:\\n$\\\\frac{\\\\partial V_i}{\\\\partial t} = \\\\frac{b^2}{2} \\\\frac{\\\\partial^2 V_i}{\\\\partial y^2} - \\\\gamma V_i - f(t,y) \\\\frac{\\\\partial V_i}{\\\\partial y} = 0, V_i(T,y) = 1$\\n$\\\\hookrightarrow$ normalized to sugi's pays off 1\\nUsing PDE we can feasible bond's Itô processes\\n$[ (\\\\gamma V + f(t,y) \\\\frac{\\\\partial V}{\\\\partial y} ) + a \\\\frac{\\\\partial V}{\\\\partial y} ] dt + [b \\\\frac{\\\\partial V}{\\\\partial y} ] dB$\\nReordering:\\n$\\\\frac{dV - \\\\gamma V dt}{b \\\\frac{\\\\partial V}{\\\\partial y}} = [\\\\frac{a+\\\\eta f}{b} ] dt + dB$\\n$\\\\hookrightarrow \\\\eta$: the market price of risk, for unit of risk.\\nBut unobservable as it's not traded like\\nThe underlying shock during derivation of BS.\\nFrom here, now we just need to plug in\\na model for the term structure $f(t, y)$,\\nas we like.\"},\n",
       " '15.455x(12).jpg': {'content': 'Ito Calculus\\nIto process as Stochastic from where\\n$dX_t = adt + bdBt$\\nLinear norm\\nUs p.rn and depends on both at time as some\\nBrownian motion\\n$d(F(X))$ ? Chain rule, $dF(t, x) = \\\\frac{\\\\partial F}{\\\\partial t} dt + \\\\frac{\\\\partial F}{\\\\partial x} dx$\\nBut X nowhere differentiable as Bt, nowhere!\\nIt\\'s Keanu tries to introduce differentiability for\\nprobabilistic functions using Taylor\\'s theorem\\n$F\\'(x) = lim_{\\\\Delta x \\\\rightarrow 0} \\\\frac{F(x+\\\\Delta x) - F(x)}{\\\\Delta x}$ $\\\\rightarrow$ not possible\\nWe become satisfied w. probabilistic def\\'n to ensure positivity.\\n$lim_{\\\\Delta x \\\\rightarrow 0} P [(\\\\frac{F(x+\\\\Delta x) - F(x)}{\\\\Delta x} - F\\'(x))^2 > 0] = 0$\\nWe just need a \"diffirm\" that is expected converges!\\n$lim_{\\\\Delta x \\\\rightarrow 0} E[-H-] = 0$\\nFrom deterministic Calc to Prob. Calc.\\n$\\\\_$ Ito\\'s leans a Stochastic chain rules, thus\\nCan use taylor\\'s theorem to geir rid of problem chil\\nwhen using Chain rule :\\n$dF = \\\\frac{\\\\partial F}{\\\\partial x} dx + \\\\frac{\\\\partial F}{\\\\partial t} dt$\\n$\\\\frac{\\\\partial F}{\\\\partial t} dt = \\\\frac{\\\\partial F}{\\\\partial x} (adt + dBt)$\\n$\\\\rightarrow$ det. change in f due to \\'dript\\' of process.\\nDet. change is $\\\\frac{\\\\partial f}{\\\\partial x}$ $\\\\rightarrow \\\\frac{\\\\partial f}{\\\\partial t} dBt$\\nto change ?\\nin time\\nRdronness embarle in $d B_t^2 = dt$ !\\n$dB_t \\\\sim N(0, dt)$\\n$\\\\rightarrow$ it\\'s rem itself and thus chain r-z\\nmarroner'},\n",
       " '15.455x(4).jpg': {'content': \"Continuous - Time Finance 13\\nChange of Vars to get Heat eq'n:\\n1. Change to forward price, $U(S,t)$:\\n$V(S,t) = e^{-r(T-t)}U(S,t)$ &\\n$\\\\Rightarrow \\\\frac{\\\\partial U}{\\\\partial t} + \\\\frac{(\\\\sigma S)^2}{2}\\\\frac{\\\\partial^2 U}{\\\\partial S^2} + rS\\\\frac{\\\\partial U}{\\\\partial S} = 0$\\nNote structure here: $S^2$ in front w- $\\\\frac{\\\\partial S^2}{}$ and $\\\\frac{1}{dS}$\\n2. $\\\\longrightarrow$ Let's substitute so we take the logarithm\\nThat's also a far more natural un'\\nThen absolute values.\\n$T \\\\equiv T-t$, $\\\\xi = log S$, $S=e^{\\\\xi}$\\ntime left which is also\\nmore consistent w. terminal conditions.\\n$\\\\Rightarrow \\\\frac{\\\\partial U}{\\\\partial T} - \\\\frac{\\\\sigma^2}{2}\\\\frac{\\\\partial^2 U}{\\\\partial {\\\\xi}^2} - (r - \\\\frac{\\\\sigma^2}{2})\\\\frac{\\\\partial U}{\\\\partial \\\\xi} = 0$.\\n3. Finally a sub. to clean it up,\\n$X \\\\equiv \\\\xi + (r-\\\\frac{\\\\sigma^2}{2})T$\\n$\\\\Rightarrow \\\\frac{\\\\partial U}{\\\\partial T} - \\\\frac{\\\\sigma^2}{2}\\\\frac{\\\\partial^2 U}{\\\\partial X^2} = 0$. Heat Eq'n!\\nWe use the special Gaussian sol'n to\\nit, to generate en general\\n(For init. cond.)\\n$\\\\boxed{p(z,t=0) = f(z)}$\\n$\\\\boxed{p(z,t) = \\\\int p_o (z-z', t) f(z') dz' = \\\\frac{1}{\\\\sqrt{2\\\\pi t}} \\\\int e^{-\\\\frac{(z-z')^2}{2t}}p(z') dz'}$\\n$\\\\longrightarrow$ Trick is to pass use a smart\\nLet $u=\\\\frac{w-z}{\\\\sqrt{t}}$ substitution to get a standard Gaussian\\n$du = \\\\frac{dw}{\\\\sqrt{t}}$ integral whose moments we (know.\\nMatrix, Always check by verifying is (I) PDE itself and (II)\\nterminal Initial cond. $P(z,t=0) = f(z)$.\"},\n",
       " '15.455x(24).jpg': {'content': \"Sub. $u = \\\\frac{w-z}{\\\\sqrt{t}}$, $dv = \\\\frac{dw}{\\\\sqrt{t}}$ thus allowing us to rewrite it in terms of well-knowing gaussian nonsense.\\nUsing sub it eval, to $ECF[u\\\\sqrt{t} + z] \\\\Rightarrow $ just use advanced one if we have piece-wise func. linear options.\\nUseful Sub. $\\\\int_{0}^{dt} = B_t - B_0 \\\\sim N(0,t)$ for $B_0$ w.: $B_t - B_0 \\\\Rightarrow \\\\sqrt{t}z$ as $(\\\\sqrt{t} z) \\\\sim N(0,1)$ \\n$\\\\hookrightarrow$ Allowing us to rewrite something like $E[e^{x}] = E[e^{\\\\sigma p t + \\\\sigma \\\\sqrt{t} \\\\sigma z}]$ for $X_0 = 0$.\\nMethod of Images to compute exit/survival prob. barrier\\nCond. ubezen,\\n$P_s(z, t) = P_0(z-z_0, t) - P_0(z - [2z^* - z_0], t)$, $2z^* Boundary$, $P_s(z^*, t) = 0 \\\\Rightarrow $ zero prob. of survival at $z^*$\\nOnly Symmetric Boundary. Else, $P_s(t) = \\\\int_{z^*}^{\\\\infty} P_0(z, t) dz = \\\\Phi(\\\\frac{\\\\mu t + z_0 - z^*}{\\\\sqrt{\\\\sigma^2 t}}) - e^{\\\\frac{-2\\\\mu (z-z_1)}{\\\\sigma^2}} \\\\Phi(\\\\frac{\\\\mu t - z_1 + z^*}{\\\\sqrt{\\\\sigma^2 t}})$\\n\\nw. drift term.\\n$dF = \\\\frac{\\\\partial F}{\\\\partial t} dt + \\\\sum_i \\\\frac{\\\\partial F}{\\\\partial x_i} dx_i + \\\\frac{1}{2} \\\\sum_{i, j} \\\\rho_{ij} b_i b_j \\\\frac{\\\\partial^2 F}{\\\\partial x_i \\\\partial x_j} dt$, Martingale if $E[e^{-r s_t}] = S_0$\\nCommon Sub. for BS to heat! Forward val.: $V(S, t) = e^{-r(T-t)} U(S, t) \\\\Rightarrow \\\\frac{\\\\partial u}{\\\\partial t} = \\\\frac{\\\\sigma^2 s^2}{2} \\\\frac{\\\\partial^2 u}{\\\\partial s^2} + r s \\\\frac{\\\\partial u}{\\\\partial s} = 0$\\nEx. Subst. Init. $\\\\frac{\\\\partial v}{\\\\partial t} + \\\\frac{\\\\sigma^2}{2} \\\\frac{\\\\partial^2 v}{\\\\partial s^2} \\\\rightarrow$ 1. An $\\\\sigma^2$ too much\\n$\\\\frac{\\\\partial v}{\\\\partial t} = \\\\frac{\\\\partial v}{\\\\partial \\\\tau} \\\\frac{\\\\partial \\\\tau}{\\\\partial t}$, \\\\tiny{$ \\\\frac{\\\\partial v}{\\\\partial \\\\sigma}$} $= - \\\\sigma^2  \\\\frac{\\\\partial v}{\\\\partial \\\\sigma} + \\\\frac{\\\\sigma^2}{2} \\\\frac{\\\\partial^2 v}{\\\\partial \\\\sigma^2} = 0 \\\\rightarrow$ Heat eqn now!: $\\\\sqrt{\\\\sigma}$ at sol'n: $\\\\Phi(\\\\frac{k-s}{\\\\sqrt{\\\\sigma t}})$ integrates to $q$\\nBut when we calc sol'n, $P_0(z, t=0) \\\\rightarrow P_0(z, J=0)$ so sub. back!!\\nOptions forces, Call $f(s) = max(s-u, 0) = \\\\frac{1}{2}(|s-u| + s - u)  \\\\frac{d^2}{ds^2} f(s) = \\\\delta(s-u), G= \\\\{ 0, 1, r. S etc$\\\\} \\nBS sol'n: $S \\\\Phi(d_+) - ke^{-r(T-t)} \\\\Phi(d_-)$\\n$d_{\\\\pm} = \\\\frac{log(\\\\frac{S}{ke^{-r(T-t)}})}{\\\\sigma \\\\sqrt{T-t}} \\\\pm \\\\frac{1}{2} \\\\sigma \\\\sqrt{T-t}$\\n2nd order ODE S\\\\textit{l'n}, $c_1 e^{a_1 t} + c_2 e^{a_2 t}$ where $e^{a_i t}$ is porft. sol'n.\\nCommon Ansataz: $e^{f(t) = u g(t)}; f(2) g(x)$ \\nLagrangian: find clever tricks, es. $\\\\frac{x}{y z}h$\\nCommon $\\\\mathbb{A}: \\\\mathbb{R}^n \\\\rightarrow \\\\mathbb{R}^3$ where $A: is matrix s x n$, $s$ states, $a...\\\\pi\\\\pi \\\\nu$\\nUse $\\\\lambda$ to get c.p.\\nat legh.\\nType I Arbitrage: Paying nothing now/negotia cae selling something, $S^T x \\\\leq 0$ ^ $A x \\\\geq 0$\\nType II: $Ax = 0$ ^ $S^T x \\\\neq 0$. Elementary AV sec.: $Ax = e_j$, price of these $\\\\psi \\\\rightarrow$ Payoff $A=I$\\nR Recall, $\\\\perp :$ annihilator $\\\\rightarrow$ con freely add that which is in kernel.\\nFundamental Img.\\nNo. arbitrage iff $S^T x = \\\\psi^T b = 0$\\n$A^T: W \\\\rightarrow V^{\\\\perp}$\\nthus $\\\\exists \\\\psi \\\\geq \\\\geq 0 \\\\rightarrow FTAP$\\nA: $V \\\\rightarrow W$\\n$Ker A^\\\\perp + Ima A$\\n$In A^\\\\perp + Ker A$\\n$100 \\\\rightarrow (\\\\frac{1}{2})Q =$\\nTaylor $f(x) = f(x_0) + (\\\\nabla F)^T (x-x_0) + \\\\frac{1}{2} (x - x_0)^T Q (x-x_0) + \\\\dots$\\nif all $\\\\lambda$ of $Q$ $\\\\begin{cases} >0 \\\\rightarrow c.p. min \\\\\\\\ < 0 \\\\rightarrow c.p. max \\\\end{cases}$\\nwhere $\\\\nabla F = 20$\\n$Q =  \\\\begin{bmatrix} \\\\frac{\\\\partial^2 F}{\\\\partial x_1^2} & \\\\frac{\\\\partial^2 F}{\\\\partial x_1 \\\\partial x_2} \\\\\\\\ \\\\frac{\\\\partial^2 F}{\\\\partial x_2 \\\\partial x_1} & \\\\frac{\\\\partial^2 F}{\\\\partial x_2^2} \\\\end{bmatrix} = Q^T$\\nds: flat along corr. electer; both, Saddle.\\nPortfolio opt.: Lagrangian, $L(\\\\lambda, x, y) \\\\equiv f(x, y) - \\\\lambda (g(x, y) - c)$ and $\\\\nabla L = 0$\\n$\\\\mu_p = \\\\mu^T w$\\n$\\\\sigma_p^2 = w^T C w$\\nEx: constraint $\\\\sum w_i = 1$ or $l^T w = 1$\\n$\\\\Rightarrow L(w, l) = \\\\frac{1}{2} w^T C w + l(1 - l^T w)$ \\\\rightarrow $w_{min.} = l C^{-1} l = \\\\frac{C^{-1} l}{l^T C^{-1} l}$, $l_{min}^2 : l = \\\\frac{1}{l^T C^{-1} l}$\\nAdding, Constraint, $\\\\mu_p = \\\\mu^T w$ \\\\rightarrow $L(w, l, m) = \\\\frac{1}{2} w^T C w + l (1 - l^T w) + m(\\\\mu_p - \\\\mu^T w)$ orig. Adj.\\nSit. $\\\\sigma_p^2 = w^T C w$\\n$l^T w = l(\\\\underline{1}^T C^{-1} l) + m(\\\\mu^T C^{-1} l) = 1$\\n$\\\\mu^T w = l(\\\\mu^T C^{-1} l) + m(\\\\mu^T C^{-1} \\\\mu) = \\\\mu_p$ \\\\Rightarrow $\\\\begin{pmatrix} l \\\\\\\\ m \\\\end{pmatrix} = M \\\\begin{pmatrix} 1 \\\\\\\\ \\\\mu_p \\\\end{pmatrix}$, $\\\\begin{pmatrix} l \\\\\\\\ m \\\\end{pmatrix} = M^{-1} \\\\begin{pmatrix} 1 \\\\\\\\ \\\\mu_p \\\\end{pmatrix}$\\nIF $F(t, B)$ then $dx = uBi$\\n$M = (\\\\frac{1}{ac-b^2}) \\\\begin{pmatrix} c & -b \\\\\\\\ -b & a \\\\end{pmatrix}$ ($\\\\begin{smallmatrix} a & b \\\\\\\\ b & c \\\\end{smallmatrix}$) \\\\begin{pmatrix} u \\\\mu_p^2 & -2b \\\\mu_p + c \\\\end{pmatrix}$ symmetric\\nIntegrating factor, $u(x) = e^{\\\\int p(x) dx + c}$\\nMulti-variate case: (2nd Foral -ex: $y' \\\\tau p(x) y = q(x) \\\\Rightarrow u(x) y' + u(x) p(x) y = u(x) q(x)$\\n$\\\\frac{dF}{dt} = \\\\frac{\\\\partial F}{\\\\partial t} dt + \\\\frac{\\\\partial F}{\\\\partial x} dx + \\\\frac{\\\\partial F}{\\\\partial y} dy$\\nS.h. $(u(x)y)' = u(x) q(x)$\\n$+ \\\\frac{1}{2} \\\\frac{\\\\partial^2 F}{\\\\partial x^2} (dx)^2 + \\\\frac{1}{2} \\\\frac{\\\\partial^2 F}{\\\\partial y^2} (dy)^2 + \\\\frac{\\\\partial^2 F}{\\\\partial x \\\\partial y} (dx) (dy)$\\nIntegrate both sides, div so y is done\\n$\\\\hookrightarrow$ Covers all terms that might be red. $\\\\leq 0 ((dx_i)^2)$\\nand remember c.\\n$\\\\frac{\\\\partial L}{\\\\partial w} = \\\\sum_{j \\\\in [n]} w_j c_{ij} + (-l w_i - m \\\\mu_i ); \\\\rightarrow w = c^{-1} (l_i + m \\\\mu_i )$\\nAnd use $b^2$ Property for geometric stuff!\\nAlways be careful of which It's You're using!\\n$\\\\text{Cov}(x, y) = \\\\rho_{xy} \\\\sigma_x \\\\sigma_y$\\n$\\\\frac{1}{2}$ \\\\checkmark Same multiplier case\"},\n",
       " '15.455x(8).jpg': {'content': \"Continuous - Time Finance\\nMultiple I tô processes, $dx_i = a(t, X_1, ..., X_n)dt + b_i(t, X, )dB_t$\\nAs higher-order Taylor Expansions look like,\\n$f(x) = f(a) + \\\\sum \\\\frac{\\\\partial f}{\\\\partial x_i}|_a (x_i - a) + \\\\frac{1}{2} \\\\sum_i \\\\sum_j \\\\frac{\\\\partial^2 f}{\\\\partial x_i \\\\partial x_j}|_a (x_i - a_i)(x_j - a_j) + O(x^3)$ \\nMultivariate case : inudu.. all cross-terms\\nSo, Ito's Lemma becomes,\\n$dF = \\\\frac{\\\\partial F}{\\\\partial t} dt + \\\\sum \\\\frac{\\\\partial F}{\\\\partial x_i} dx_i + \\\\frac{1}{2} \\\\sum p_{ij} b_i b_j \\\\frac{\\\\partial^2 F}{\\\\partial x_i \\\\partial x_j} dt$\\nThe heuristic is simply,\\n$(dB_i)^2 \\\\rightarrow dt$\\n$(dB_i) (dB_j) \\\\rightarrow p_{ij} dt$\\n$(dX_i)^2 \\\\rightarrow b_i^2 dt$\\n$(dX_i)(dX_j) \\\\rightarrow p_{ij} b_i b_j dt$\\n- Cross-terms req. $p_{ij}$\\n- As soon as $X_n$ is inulut b's are too.\\nEx: $F = X_1 X_2$, $dF = X_1 dX_2 + X_2 dX_1 + \\\\frac{1}{2} (dX_1)(dX_2)$\\nLet's imagine we have geometric BW, then\\n$\\\\frac{dX_i}{X_i} = \\\\mu dt + \\\\sigma dB_i$; $\\\\frac{dF}{F} = \\\\frac{dX_2}{X_2} + \\\\frac{dX_1}{X_1} + \\\\frac{dX_1 dX_2}{X_1 X_2}$\\n$= (\\\\mu_1 + \\\\mu_2)dt + (\\\\sigma_1 dB_1 + \\\\sigma_2 dB_2) + \\\\frac{p_{12} \\\\sigma_1 \\\\sigma_2}{X_1 X_2} dt$\\nMartingale iff $E[e^{-rt} S_t] = S_0$\\nA bit on subsh for PDES :\\n1. An $\\\\sigma^2$ too much\\n2. Wrong sign $\\\\rightarrow$ reverse time\\nEx: $\\\\frac{\\\\partial V}{\\\\partial t} + \\\\frac{\\\\sigma^2}{2} \\\\frac{\\\\partial^2 V}{\\\\partial S^2}$\\nLet $J = \\\\sigma^2 (T-t)$\\nBy, chain rule $\\\\frac{\\\\partial V}{\\\\partial t} = \\\\frac{\\\\partial V}{\\\\partial J} \\\\frac{\\\\partial J}{\\\\partial t}$\\n$dJ = -\\\\sigma^2 dt$ $\\\\frac{\\\\partial J}{\\\\partial t} = -\\\\sigma^2$\\n$\\\\frac{\\\\partial V}{\\\\partial t} = -\\\\sigma^2 \\\\frac{\\\\partial V}{\\\\partial J}$\\n$\\\\frac{\\\\partial V}{\\\\partial t} + \\\\frac{\\\\sigma^2}{2} \\\\frac{\\\\partial^2 V}{\\\\partial S^2} = -\\\\sigma^2 \\\\frac{\\\\partial V}{\\\\partial J} + \\\\frac{\\\\sigma^2}{2} \\\\frac{\\\\partial^2 V}{\\\\partial S^2} = 0$ $\\\\Rightarrow \\\\frac{\\\\partial V}{\\\\partial J} - \\\\frac{1}{2} \\\\frac{\\\\partial^2 V}{\\\\partial S^2} = 0$\\nNow we can use $P_0$ and its gen. solution. Remember to sub back.\\nBut: $P_0(z, t = 0) \\\\rightarrow P_0(z, J=0)$\"},\n",
       " '15.455x(9).jpg': {'content': \"Wutz ulor Sol'n to Hangeurs\\n$c_1 e^{a_1 t}$ + $c_2 e^{a_2 t}$ whar $e^{at}$ dictates\\nparticule sol'n\"},\n",
       " '15.455x(25).jpg': {'content': \"Week 1 $SE = E[ (\\\\frac{X-\\\\mu}{\\\\sigma})^3]$, $K= E[ (\\\\frac{X-\\\\mu}{\\\\sigma})^4 ] - 3$ Standard for Gaussian $E[Z^4]=3$. Cov(x, y) = E[(X - $\\\\mu$)(Y - $\\\\mu$)]\\nBinomial: $f(k; n, p) = {n \\\\choose k} p^k q^{n-k}$, ${n \\\\choose k} = \\\\frac{n!}{k!(n-k)!} \\\\rightarrow \\\\mu = np, \\\\sigma^2 = nVar(Bernoulli) = np(1-p)$\\nStandard Gaussian, $p(z) = \\\\frac{1}{\\\\sqrt{2\\\\pi}} e^{-\\\\frac{z^2}{2}}$, $z = \\\\frac{X - \\\\mu}{\\\\sigma}$, $F(z) = \\\\int_{-\\\\infty}^{z} p(z) = \\\\Phi(z)$.\\nMoments, $E[z] = 0$, $E[z^2] = 1$, $E[z^3] = 0$, $E[z^4] = 3$, $E[e^{\\\\alpha z + \\\\beta}] = e^{\\\\frac{\\\\alpha^2}{2} + \\\\beta}$, $E[z^{m}] = {\\\\frac{0}{2^{\\\\frac{-m}{2}} \\\\frac{m}{2}!}, \\\\space m \\\\space even }$\\nPoisson, $p(h; \\\\lambda) = \\\\frac{e^{-\\\\lambda} \\\\lambda^h}{h!}$ where $\\\\mu = \\\\lambda = \\\\sigma^2$. For arrivals, $\\\\lambda \\\\rightarrow \\\\lambda t$, $p(h; \\\\lambda t) = \\\\frac{e^{-\\\\lambda t} {(\\\\lambda t)}^h}{h!}$\\nGeometric(p): Waiting time between Bernoulli. $E[C,T] = \\\\sum_{n=1}^{\\\\infty} nq^{n-1}p = p \\\\frac{d}{dq} \\\\sum q^n = p(\\\\frac{1}{1-q})^2 = \\\\frac{1}{p}$.\\nMA(q): Moving Avg - Contains q innovations from past. AR(p): 'Autoregressive, past values as causal inference.\\nARMA(p, q) ex: $c_0 + c_1 R_{t-1} + \\\\sigma z_t + \\\\phi_1 z_{t-1}$ P = q = 1. $R_t = \\\\mu + \\\\sigma z_t$. sub. $Y_t = \\\\frac{R_t - \\\\mu}{\\\\sigma}$\\nAR(1) transformed to model mean reversion: $R_{t+1} - \\\\mu = -\\\\lambda (R_t - \\\\mu) + \\\\sigma z_t \\\\rightarrow$ to verify.\\nInvoking weak stationarity, $E[R_t] = \\\\frac{c_0}{1-c_1}; let $ \\\\lambda = -c_1 \\\\rightarrow$ Always consider the familiar expressions! Ex: $E[I_t, R_t]$\\nAutocovariances for AR(1): $Y_0 = \\\\frac{\\\\sigma^2}{1 - \\\\lambda^2} = E[(R_t - \\\\mu)^2]$; By recursion: $Y_h = (-\\\\lambda)^h Y_0$ \\nBACF to test for p in AR(p)\\nForecasting: Including all info(conditioning) in info on hand, $F_{t,h} = E[R_{t+h} | I_t] = p_t \\\\rightarrow$ which terms have dropped out?\\n$e_{t+h} = x_{t+h} - F_{t,h}$ MSFE: $E[(x_{t+h} - F_{t,h})^2] \\\\rightarrow$ Not invariant!\\n$Q_x = \\\\begin{cases} {(\\\\frac{q}{p})^x \\\\frac{q/p}{q/p - 1} - \\\\frac{q/p}{q/p -1} } \\\\space p \\\\neq q \\\\\\\\ 1 - \\\\frac{x}{a} \\\\space p = q \\\\end{cases} \\\\space State \\\\space space of Money, not time!\\n$v_x = \\\\begin{cases} x(a - x) \\\\space p = q \\\\\\\\ \\\\frac{x}{q - p} - \\\\frac{a}{q - p} \\\\frac{1 - (\\\\frac{q}{p})^x}{1 - (\\\\frac{q}{p})^a} \\\\space p \\\\neq q \\\\end{cases}$\\n$Q_x$: probability of ruin, p success, q failure\\n$X = 0 \\\\rightarrow$ denotes ruin, whereas var. stands for initial capital. a: break the house\\nScaling RW into continuous time, $\\\\Delta t = \\\\frac{T}{n}$, $\\\\lambda = \\\\sqrt{\\\\Delta t}$, $E_t = \\\\lambda z_t$, $B_{\\\\Delta t, T} = \\\\sum_{i=1}^{n} E_i = \\\\sqrt{\\\\Delta t} \\\\sum z_t$\\ns.t. $E[B_{\\\\Delta t}, T] = 0$, $Var(B_{\\\\Delta t}, T) = nVar(E_t) = n \\\\Delta t Var(z_t) = n \\\\Delta t > T$.\\nSo, $lim_{\\\\Delta t \\\\rightarrow 0} B_{\\\\Delta t, T} \\\\sim N(0, T)$: var correctly linearly scales. w. time. $dB \\\\sim N(0, dt)$\\nRecall, returns lognormally distributed, $r_t = log(\\\\frac{s_t}{s_{t-1}}) \\\\sim \\\\mu + \\\\sigma z_t$. i continuous, $log(\\\\frac{s_t}{s_0}) = \\\\mu T + \\\\sigma \\\\sqrt{t}z$.\\nMore generally, $log(\\\\frac{s_{t_2}}{s_{t_1}}) = \\\\int_{t_1}^{t_2} \\\\mu (t) dt + \\\\int_{t_1}^{t_2} \\\\sigma(t) dB_t \\\\sim N(\\\\mu T, \\\\sigma^2T)$\\nIto process, $dx_t = a(t, x) dt + b(t, x) d \\\\theta$. For $F(t, x)$, Ito's lemma,\\n$dF = \\\\frac{\\\\partial F}{\\\\partial t} dt + \\\\frac{\\\\partial F}{\\\\partial x} dx + \\\\frac{b^2}{2} \\\\frac{\\\\partial^2 F}{\\\\partial x^2} dt$, $(dx)^2 \\\\rightarrow b^2 dt$. Just replace dx to get Ito process:\\nFor arithmetic Ops: $\\\\int_0^t ds_t = \\\\mu \\\\int_0^t dt + \\\\sigma \\\\int_0^t dB_t$. $S_t = S_0 + \\\\mu T + \\\\sigma (B_t - B_0)$. Basic form\\nGeometric B: Intermediate step, def F = log($s_t$) ; $d(log s_t) = (\\\\mu - \\\\frac{\\\\sigma^2}{2}) dt + \\\\sigma dB_t$\\n$\\\\Rightarrow S_t = S_0 e^{(\\\\mu - \\\\frac{\\\\sigma^2}{2}) t + \\\\sigma (B_t - B_0)}$\\n(Easy) derivative of BS: V = V(t, s) $ds = (\\\\mu s) dt + (\\\\sigma s) dB$, $dV = (\\\\frac{\\\\partial v}{\\\\partial t} + \\\\frac{(\\\\sigma s)^2}{2} \\\\frac{\\\\partial^2 v}{\\\\partial s^2} )dt + (\\\\frac{\\\\partial v}{\\\\partial s}) ds$\\nPortfolio (risk-free): $\\\\pi = V - \\\\Delta S$ where $\\\\Delta = \\\\frac{\\\\partial v}{\\\\partial s}$ to hedge moments. = V(t, T, \\\\Upsilon_t) = \\\\frac{\\\\partial^2 v}{\\\\partial z \\\\partial x}$\\n$d\\\\pi = dV - \\\\Delta ds = (rV - rS \\\\frac{\\\\partial v}{\\\\partial s})dt \\\\nBonds trick, $\\\\pi = q_1 v_1 + q_2 v_2$, end $\\\\frac{\\\\partial v_1}{\\\\partial x} q_1 + \\\\frac{\\\\partial v_2}{\\\\partial x} q_2 = 0$; d$\\\\pi$ = $\\\\Upsilon dt$: $V = V(t, T, \\\\Upsilon_t)$. Chovsing\\nFrict for If we need something to have on Ito process as differential, just write up in terms of \\\\Upsilon_t.\\nPartials w It's Cand solve simplest POE and verify. p(z+1 = $Sp.(z - \\\\frac{v}{\\\\sigma}, +) f(w)dw$ . simplers cally allows us to evaluate.\\nAlways remember, terminal conditions.\\nGen. Solution to Heat eqn, $\\\\frac{\\\\partial P_0}{\\\\partial t} = \\\\frac{1}{2} \\\\frac{\\\\partial^2 P_0}{\\\\partial^2}$ for some init. $P_0 (z, t=0) = f(u)$.\"},\n",
       " '15.455x(5).jpg': {'content': \"Note, $\\\\int d\\\\tilde{B} = B_t - B_0$, let $B_0 = 0$.\\nBrownian dB w.  $\\\\sim N(0, dt)$.\\nand $B_t \\\\sim N(0, t)$\\nSo, we can make a subsitution\\nto make it much easier,\\n$B_t - B_0 = \\\\sqrt{t} z$ as $(\\\\sqrt{t} z) \\\\sim N(0, t)$.\\nThis enables us to just do Gaussian integrals.\\nEx: $E[e^{6x}]$\\nwhere, $dx = \\\\mu dt - \\\\sigma dB$ $\\\\implies$ subbing for $B_t - B_0$.\\n$\\\\Rightarrow X_t - X_0 = \\\\mu t + \\\\sigma \\\\sqrt{t} z$.\\nSir, $E[e^{6x}] = E[e^{6\\\\mu t + 6\\\\sigma \\\\sqrt{t} z}]$\\n$= e^{6\\\\mu t} E[e^{6\\\\sigma \\\\sqrt{t} z}]$\\nLet's first generalize moment-generating\\nfunc. to $F(x) = e^{\\\\alpha z + \\\\tau B}$\\n$E[f(x)] = e^{\\\\frac{a^2}{2} + \\\\tau B}$ $E[X] = \\\\frac{1}{\\\\sqrt{2\\\\pi}}\\\\int_{-\\\\infty}^{\\\\infty} x \\\\phi(x), x \\\\sim N$.\\n$= \\\\frac{e^B}{\\\\sqrt{2\\\\pi}} \\\\int_{-\\\\infty}^{\\\\infty} e^{\\\\frac{-z^2}{2}} e^{az} dz$ when $f(x) = e^{\\\\frac{-x^2}{2}}$.\\n$= \\\\frac{e^B}{\\\\sqrt{2\\\\pi}} \\\\int_{-\\\\infty}^{\\\\infty} e^{\\\\frac{-(z-a)^2}{2} + \\\\frac{a^2}{2}} dz$ completing square, $= \\\\frac{e^{B+\\\\frac{a^2}{2}}}{\\\\sqrt{2\\\\pi}} \\\\int_{-\\\\infty}^{\\\\infty} e^{\\\\frac{-(z-a)^2}{2}}dz$\\nObviously, the whole second part on integrating to 1.\\n$E[e^{\\\\alpha z + \\\\tau B}] = e^{\\\\frac{a^2}{2} + \\\\tau B}$ as $[\\n$\\\\frac{1}{\\\\sqrt{2\\\\pi}}\\\\int_{-\\\\infty}^{\\\\infty} e^{\\\\frac{-(z-a)^2}{2}} dz]=1$\\nSo, $E[e^{6\\\\sigma \\\\sqrt{t} z + 6 \\\\mu t}] = e^{18\\\\sigma^2 t + 6 \\\\mu t}$.\\nAnd, $E[z^m] = \\\\begin{cases}\\n0, m \\\\text{ odd}\\n\\\\\\\\frac{2^{-\\\\frac{m}{2}}m!}{(^m/2)!}, m \\\\text{ even}\\n\\\\end{cases}$\"},\n",
       " '15.455x(13).jpg': {'content': \"Taylor expansion instead s.l.\\n$dF = \\\\frac{\\\\partial F}{\\\\partial t} dt + \\\\frac{\\\\partial F}{\\\\partial x} dx + \\\\frac{1}{2} \\\\frac{\\\\partial^2 F}{\\\\partial x^2} dx^2 + ...$\\nonly relevant terms as\\nhigher moments vanish\\n$E[dB_t] = 0; E[dB_t^2] = dt; E[dB_t^3] = 0; E[dB_t^4] = 3dt^2$\\nFrom there we calc. $E[dx^n]$\\nend we get $E[dx^3] \\\\text{ so output} \\\\text{ and icl dans w. also at temp}$ \\n$\\\\implies dF = \\\\frac{\\\\partial F}{\\\\partial t} dt + \\\\frac{\\\\partial F}{\\\\partial x} [adt + bdB_t] + \\\\frac{1}{2} \\\\frac{\\\\partial^2 F}{\\\\partial x^2} [b^2 dt]$\\n$= [\\\\frac{\\\\partial F}{\\\\partial t} + \\\\frac{b^2}{2} \\\\frac{\\\\partial^2 F}{\\\\partial x^2}] dt + [\\\\frac{\\\\partial F}{\\\\partial x}] dx$\\n$= [\\\\frac{\\\\partial F}{\\\\partial t} + \\\\frac{b^2}{2} \\\\frac{\\\\partial^2 F}{\\\\partial x^2} + a \\\\frac{\\\\partial F}{\\\\partial x}] dt + [b \\\\frac{\\\\partial F}{\\\\partial x}] dB$ explains the\\n$\\\\Rightarrow a \\n\\\\implies$ Itô process!\\nItô's lemma: $dF = \\\\frac{\\\\partial F}{\\\\partial t} dt + \\\\frac{\\\\partial F}{\\\\partial x} dx + \\\\frac{b^2}{2} \\\\frac{\\\\partial^2 F}{\\\\partial x^2} dt $\\n$\\\\implies$ one term beyond usual chain rule.\\nNote, $X = X(0)$\\nSo for ex. $F(t, B) = t^3 + B^3$\\nthen $[dX = dB]$ i.e. Itô process\\nsimply given by $dX_t = adt + bd B_t$\"},\n",
       " '15.455x(6).jpg': {'content': \"Continuous - Time Finance\\nUsing gen. sol'n. (we also sometimes have to\\nrely on  $\\\\partial(x) \\\\equiv \\\\int_{-\\\\infty}^x ... dx = p(x)$)\\nEx: Init cond. at $F(w) = \\\\begin{cases} 1, w < k \\\\\\\\ 0, w > k\\\\end{cases} = p(w, 0)$\\n$p(z, t) = \\\\int_{-\\\\infty}^{\\\\infty} \\\\frac{K}{\\\\sqrt{2\\\\pi t}} e^{\\\\frac{-(z-w)^2}{2t}} dw$\\nLet $u = \\\\frac{w-z}{\\\\sqrt{t}}$, $du = \\\\frac{dw}{\\\\sqrt{t}}$\\nAlso boundaries of integral s, $w = k$, $u = \\\\frac{k-z}{\\\\sqrt{t}}$\\n$p(z, t) = \\\\int_{-\\\\infty}^{\\\\frac{k-z}{\\\\sqrt{t}}} \\\\frac{1}{\\\\sqrt{2\\\\pi}}e^{\\\\frac{-u^2}{2}}du = \\\\Phi(\\\\frac{k-z}{\\\\sqrt{t}})$\\nNote how t-dependence is gone.\\nSt. we can use moment generating func. of N.\\nIn fact, generalizing,\\n$\\\\frac{1}{\\\\sqrt{2\\\\pi t}}\\\\int_{-\\\\infty}^{\\\\infty} e^{\\\\frac{-(z-w)^2}{2t}} f(w) dw = \\\\frac{1}{\\\\sqrt{2\\\\pi}} \\\\int_{-\\\\infty}^{\\\\infty} e^{\\\\frac{-u^2}{2}} f(u\\\\sqrt{t}+z) dv$\\nas per sub. $u = \\\\frac{w-z}{\\\\sqrt{t}} <=> w = u\\\\sqrt{t}+z$\\nWhich is just, $= E[f(u\\\\sqrt{t}+z)]$\\nSimply\\nSimply from the fact that $X_t \\\\sim N(\\\\mu t, \\\\sigma^2t)$\\nthen PDF given by,\\n$P(x_T, T; x_0, t_0) = \\\\frac{1}{\\\\sqrt{2\\\\pi\\\\sigma^2(T-t_0)}} exp(-\\\\frac{[(x_T-x_0) - \\\\mu(T-t_0)]^2}{2\\\\sigma^2(T-t_0)})$\\nnot static at origin.\\nNote the diffusion intuition we get from\\nthe Guassian -> height/heat slowly diffuses\\nas t increases.\\nStoch paths diffuse similarly.\"},\n",
       " '15.455x(10).jpg': {'content': 'Continuous - Time Finance\\n5 splitting at Brownian motion  graphic depiction\\n1 or Variance growing linearly\\nFor time-step stretchable process  $x_t \\\\sim N(\\\\mu t, \\\\sigma^2t)$\\nL) $p(x, t) = \\\\frac{1}{\\\\sqrt{2\\\\pi\\\\sigma^2t}} e^{\\\\frac{-(x-\\\\mu t)^2}{2\\\\sigma^2 t}}$\\n\\nFulfilling  $\\\\frac{\\\\partial p}{\\\\partial t} - \\\\frac{\\\\sigma^2}{2} \\\\frac{\\\\partial^2 p}{\\\\partial x^2} + \\\\tau \\\\mu \\\\frac{\\\\partial p}{\\\\partial x} = 0$\\n\\nLs this would give us the histogram of some thin\\nif we sliced it at some $t = t_0$.\\n\\nGen: Not starting at origin $\\\\rightarrow [(\\\\pi_T - x_0) - \\\\mu(T-t_0)]^2$\\n$p(x_T, T; x_0, t_0) = \\\\frac{1}{\\\\sqrt{2\\\\pi \\\\sigma^2 (T-t_0)}} e^{\\\\frac{-[(\\\\pi_T - x_0) - \\\\mu(T-t_0)]^2}{2\\\\sigma^2 (T-t_0)}}$\\n\\nSpecial case of pure Brownian motion\\n$\\\\mu = 0$  $\\\\sigma = 1$ then standardized\\nEmercable soln to\\nthus giving us the cliff of PDF:\\n$\\\\frac{\\\\partial p_0}{\\\\partial t} = \\\\frac{1}{2} \\\\frac{\\\\partial^2 p_0}{\\\\partial z^2}$ because $\\\\mu$ term drop out.\\nThus the given soln:\\n$p(z, t) = \\\\int p_0(z-w, t) f(w) dw \\\\epsilon ,  \\\\int \\\\frac{1}{\\\\sqrt{t}} e^{\\\\frac{-(z-w)^2}{2t}} f(w)$\\nthen we just plug in injution cand.\\n$p(z, t=0) = f(z)$.\\n\\nAre us always, we just solve it using\\nthe sub. $u = \\\\frac{(w-z)}{\\\\sqrt{t}}$ to get it rescaling\\n$E[,]$ or Sperrardizia Gaussian\\nSpecial Funci:\\n$F_+(s) = max(s-k, 0) = \\\\frac{1}{2} (|s-k| + s-k)$\\n$\\\\frac{d}{ds} F_+(s) = \\\\theta (s-k) = {^{1, s>k}_{0, s \\\\nless k}}$: Step function\\n$\\\\frac{d^2}{ds^2} F_+(s) = \\\\delta (s-k) = {^{0, s \\\\neq k}_{\\\\infty, s=k}}$:$\\\\rightarrow$ Dirac delta function : area'},\n",
       " '15.455x.jpg': {'content': \"Continuous - Time Finance 1\\nWe've considered Brownian motion and derivatives.\\nFor it, now it's just getting\\nthe math that works, w it bc. it\\nViolates Continuity and differentiability\\nItô process, $dx = a(t, x)dt + b(t, x)dB$\\ndeterministic Stochastic volatility\\nA generalization el diff'l comp -\\nA probabilistic def'n of a differential,\\nMoving us from deterministic calc,\\n-> Convergence in probability\\nGetting differential via a Taylor series\\nexpansion bc. of square-root variance.\\nItu's Lemma thus like an exponent of their rules\\nFor some asset then whose price\\ndepends on the underlying stochastic asset's path,\\n$F = F(t, x)$ then Itô's Lemma\\n$dF = (\\\\frac{\\\\partial F}{\\\\partial t}dt + \\\\frac{\\\\partial F}{\\\\partial x}dx + \\\\frac{1}{2}\\\\frac{\\\\partial^2 F}{\\\\partial x^2}(dx)^2 + \\\\frac{1}{2}\\\\frac{\\\\partial^2 F}{\\\\partial t^2}(dt)^2$\\nChain rule part\\nfrom $\\\\tau \\\\frac{\\\\partial^2 F}{\\\\partial t \\\\partial x}dt dx + O(((dt)^3; (dx)^3, ...))$\\nBinomial\\nexpansion $O(dt^{3/2})$ drop it\\n$=\\\\frac{\\\\partial F}{\\\\partial t} dt + \\\\frac{\\\\partial F}{\\\\partial x}dx + \\\\frac{1}{2}\\\\frac{\\\\partial^2 F}{\\\\partial x^2} (dx)^2$\\nAll of this only holds in expectation! $E[(d\\\\theta_t)^2]=dt$.\\nAnd substitutions is w. $dx$ stochastic process.\"},\n",
       " '15.455x(11).jpg': {'content': \"Dirac deta -> limit of Gaussian zero width,\\nthe mean of: $\\\\overline{x} = lim_{n \\\\to \\\\infty} \\\\sum_{i}^{n} x_{i}$, the dirac delta, $(\\\\frac{\\\\overline{x}-\\\\mu}{\\\\sigma})$.\\nGreen's Function if PDE inhomogenous, i.e.\\nhas equal to zero but h(z,t) for arbitrary t.\\nConditioned on Spatial Variables (Line. like Gambler's ruin):\\nTechniques:\\nMethod of images: P(unrestricted) - P(from mirror)\\nUsing these mirrored starting points where we know\\nthey necessarily cross the boundary.\\nSo, taking general form of that,\\n$P_{s}(z,t) = p_{0}(z-z_{0},t) - p_{0}(z-[2z^{*}-z_{0}],t)$\\nMirroring!\\n$= \\\\frac{1}{\\\\sqrt{2\\\\pi t}} | e^{\\\\frac{-(z-z_{0})^{2}}{2t}} - e^{\\\\frac{-(z-2z^{*}-z_{0})^{2}}{2t}} |, z > z^{*}$\\n$\\\\rightarrow$ hot 1 area! Prob gets greater as t gets bigger\\nBut only for symmetric RW no drift.\\nNote boundary cond. $p_{s}(z^{*},t)=0$.\\nWhen we break symmetry - can we just\\nintroduce a weighting factor? Yes!\\n$P_{s}(z,t) = p(z-z_{0},t) - Cp(z-[2z^{*}-z_{0}],t)$\\n$\\\\hookrightarrow C = e^{\\\\frac{-2\\\\mu (z-z^{*})}{\\\\sigma^{2}}}$\\nSurvival prob:\\n$P_{s}(t) = \\\\int_{z^{*}}^{\\\\infty} p_{s}(z,t) dz$\\n$= \\\\Phi(\\\\frac{\\\\mu t + z_{0}-z^{*}}{\\\\sqrt{\\\\sigma^{2}t}}) - e^{\\\\frac{-2\\\\mu(z-z^{*})}{\\\\sigma^{2}}} \\\\Phi(\\\\frac{\\\\mu t - z_{0} + z^{*}}{\\\\sqrt{\\\\sigma^{2}t}})$\"},\n",
       " '15.455x(7).jpg': {'content': \"(Waka : Mohiucia Geling Dirac-dalfer is its exactly\\nour POF where $t \\\\rightarrow 0$ : a mit impulse )\\nSurvival probabilihk : Achos of inesco\\n$\\\\hookrightarrow$ Computing unrestricted prob. to go fron A to B,\\nand Subtract the prob. to go from A to.\\nB Starting from the Mirror image\\nbelow the berrior $\\\\Rightarrow$ that effectivaly cauls\\nall af the pathos that cla Cross i) by\\nVictue of having to Cross it to Set to $\\nFor som barrier at $z^*$\\n\\n$z_0 \\\\begin{cases} z_0 \\\\\\\\ z_0 - z^* \\\\end{cases}$ Now usigin of $z_0^* = z_0 - 2(z_0 - z^*)$\\n$\\\\rightarrow$\\n$= 2z^* - z_0$\\n$S_i$, $(P_s(z, t) = p_0(z - z_0, t) - p_0(z - [2z^* - z_0], t)$\\n(survival prob..)\\nAnd Goudn Condition played: $P_s(z^*, t) = 0$\\n$\\\\hookrightarrow$ Staipy or berries $\\\\rightarrow$ immediate death.\\nSo we get, $p_s(z, t) = \\\\begin{cases} (\\\\frac{1}{\\\\sqrt{2\\\\pi t}} (e^{\\\\frac{-(z - z_0)^2}{2t}} - e^{\\\\frac{-(z + z_0 - 2z^*)^2}{2t}}), z > z^* \\\\\\\\ 0, z \\\\leq z^*\\\\end{cases}$\\nNote that this only holds it boundary is Synchric! If $\\\\substack{Calc.'s \\\\ alg. \\\\ singly \\\\ change}$\\nthere's a drift term, dooze 't quite www: ditt, by protectes.\\nWe diterril prefactor voing boundary conds. und gn\\n$P_s(t) = \\\\int_{z^*}^\\\\infty p_s(z, t)dz = \\\\Phi(\\\\frac{\\\\mu t + z_0 - z^*}{\\\\sqrt{\\\\sigma^2 t}}) - e^{\\\\frac{-2\\\\mu (z - z_0)}{\\\\sigma^2}} \\\\Phi(\\\\frac{\\\\mu t - z_0 + z^*}{\\\\sqrt{\\\\sigma^2 t}})$\\nApplicatin to firm: $z = firm Udic = 0 t F$\\n$z^* = 0$\\n$z_0 = Fira curr. Vduc $z_0 > z^*$\\n$\\\\hookrightarrow$ Ane so we can Stat ashy eq's like hon man\\ninstid Capitol for Sume Certain Survival probr\"},\n",
       " '15.455x(20).jpg': {'content': \"Generalising Ito's Lemma\\n\\n$dx_i = u_i(t, x_i, x_k, ...) dt + b_i(t, x_i, ...) db_i$\\n\\n$dF = \\\\frac{\\\\partial F}{\\\\partial t} dt = \\\\sum \\\\frac{\\\\partial F}{\\\\partial x_i} dx_i + \\\\frac{1}{2} \\\\sum P_{ij} b_i b_j \\\\frac{\\\\partial^2 F}{\\\\partial x_i \\\\partial x_j} dt$\\n\\nReminder for Covariance:\\n$(d v_i)^2 \\\\rightarrow dt$\\n\\n$(d B_i)(d B_j) \\\\rightarrow P_{ij} dt$\\n\\n$(dx_i)^2 \\\\rightarrow b_i^2 dt$\\n\\n$(dx_i)(dx_j) \\\\rightarrow P_{ij} b_i b_j dt$\\n\\nMC methods always good to look\\n\\nagainst - esp. as we'll have to start\\nusing. Then once we get out of the\\n\\ndomain of closed-form solutions.\"},\n",
       " '15.455x(16).jpg': {'content': \"Application: let $z$ = firm value = $0 - E$ \\nThen default: $Z^* = 0$\\n$Z_t$ : current value $Z_0 > Z^*$\\nWe can answer q's like, how important\\nis growth vs. initial buffer? What is p of\\ndefault? Optimal cap. structure for growth\\nand minimizing default probability?\\n\\n$E_t[F(S_T)] = \\\\int p(S_T, T; S, t) F(S_T) dS_T = F(S, t)$\\nas itself - a func. of initial values of $S_t, t$\\nand satisfies some PDE,\\n$\\\\lim_{t \\\\to T} F(S, t) = \\\\int \\\\delta (S_T - S) f(S_T) dS_T = f(S)$.\\n\\n$V(S, t) = e^{-r(T-t)} F(S, t) = c e^{-r(T-t)} E_t[CF(S_T)]$\\n$= e^{-r(\\\\hat{T}-t)} E_t[V(S_T, T)]$\\n\\n$V$ satisfies. Similar PDE to BS:\\n$\\\\frac{\\\\partial V}{\\\\partial t} - \\\\frac{(\\\\sigma S)^2}{2} \\\\frac{\\\\partial^2 U}{\\\\partial S^2} + \\\\tau \\\\mu S \\\\frac{\\\\partial V}{\\\\partial S} - rV = 0$\\nUnder risk-neutral conditions, answerin, it's\\nexactly the BS eq:\\nLet $dS = r S dt + \\\\sigma S d\\\\nu$ then we\\nreplace the drift term to get BS.\\n\\nFrom before\\n$e^{-rt} V(S, t) = E_t[e^{-rT} V(S_T, T)]$\\n$V(S, t) = \\\\int p(S_T, T; S, t) V(S_T, T) dS_T$\\n$= \\\\frac{e^{-r(T-t)}}{\\\\sqrt{2 \\\\pi \\\\sigma^2 (T-t)}} \\\\int e^{\\\\frac{-(x-x')^2}{2 \\\\sigma^2 (T-t)}} p(x') dx'$\"},\n",
       " '15.455x(17).jpg': {'content': \"Risk - nutric prob w/o change of variables\\n$P_{RN}(S_T, T|S, t) = \\\\frac{1}{\\\\sqrt{2 \\\\pi \\\\sigma^2 (T-t)} S_t} exp[-\\\\frac{(log(S_T / S) - (r - \\\\frac{\\\\sigma^2}{2})(T-t))^2}{2 \\\\sigma^2 (T-t)}]$\\nOr, reformulated, w/ change of uns:\\n$S \\\\Phi(d_+) - Ke^{-r(T-t)} \\\\Phi(d_-)$\\n$d_{\\\\pm} \\\\equiv \\\\frac{Log(S/Ke^{-r(T-t)})}{\\\\sigma \\\\sqrt{T-t}} \\\\pm \\\\frac{1}{2} \\\\sigma \\\\sqrt{T-t}$\\nGreeks (incration inp. fun risk-measure):\\nDelta, the one we use for hedging, $\\\\Delta \\\\equiv \\\\frac{\\\\partial v}{\\\\partial s} = \\\\begin{cases} \\\\Phi(d_+) cell \\\\\\\\ \\\\Phi(-d_+) = \\\\Delta_{cell} - 1 \\\\end{cases}$ from PC parity\\n$\\\\Gamma$, $\\\\mathcal{T} = \\\\frac{\\\\partial^2 v}{\\\\partial s^2} = \\\\frac{\\\\Phi'(d_+)}{\\\\sigma S \\\\sqrt{T-t}}$\\nVega, $V \\\\equiv \\\\frac{\\\\partial V}{\\\\partial \\\\sigma} = \\\\Phi'(d_+) S \\\\sqrt{T-t}$\\nOutside B.S framework - testing assumption of model on\\nPOE useful so we can calc. for any payoff func.!\\n$E^Q [... ] \\\\rightarrow$ replace $\\\\mu$ w/ $r$.\\nUnder no arbitrage, assets ' been discount nvt\\nbe martingales\\n$e^{-rt} X_t = E^Q_t [e^{-rT} X_T]$\\n$C_t = e^{-r(T-t)} E^Q_t max(S_T - K, 0)$\\n$\\\\rightarrow$ Using Monte Carlo to estimate pv of coll.\\nCreate a bunch of path under (Q?). Look at terminal values.\"},\n",
       " '15.455x(1).jpg': {'content': \"dF = (\\\\frac{\\\\partial F}{\\\\partial t}) dt + (\\\\frac{\\\\partial F}{\\\\partial x})[adt + bdBt] + \\\\frac{1}{2} \\\\frac{\\\\partial^2 F}{\\\\partial x^2}[ (adt + bdBt)^2 ] \\n\\nSometimes we want this\\nThus, Ito's Lemma, expounded so it's in terms of dB.\\ndF = (\\\\frac{\\\\partial F}{\\\\partial t}) dt + (\\\\frac{\\\\partial F}{\\\\partial x}) dX + (\\\\frac{b^2}{2}) (\\\\frac{\\\\partial^2 F}{\\\\partial X^2}) dt\\nwhich can be further expounded. add. to chain rule\\n (dX)^2 -> b^2 dt\\n\\nAfter this bit of math, it's simply,\\nchoosing our models (And some crumple calc.)\\nLet's suppose, e.g.,\\nds = \\\\mu dt + \\\\sigma dBt then we just integrate to get s.\\n$\\\\int_0^T ds_t = \\\\mu \\\\int_0^T dt + \\\\sigma \\\\int_0^T dB_t$ Here, unlike geometric, th.\\n<=> $S_T - S_0 = \\\\mu T + \\\\sigma (B_T - B_0)$\\n\\nThis is the Bachelier model but it was quickly rejects\\nfor not fitting stock prices as it allowed them to go neg.\\nGeometric BW classic model: $\\\\frac{dS}{S} = \\\\mu dt + \\\\sigma dB$\\nLet. $F = \\\\int \\\\frac{dS}{S} = log S$ (Intermediate step) We can't integrate this.\\nAnd this is a prime candidate for Ito process\\nto get an exact differential where it would not\\notherwise be possible!\\n$dF = d(log S) = [\\\\mu - \\\\frac{\\\\sigma^2}{2}] dt + \\\\sigma dB$ This is linear, allowing us to directly integrate!\\nIntegrate,\\nlog $S_T$ - log $S_0 = (\\\\mu - \\\\frac{\\\\sigma^2}{2}) T + \\\\sigma (B_T - B_0)$ And no we can just revert tranfenber\\nFalas G. S\"},\n",
       " '15.455x(21).jpg': {'content': \"Solving the PDEs\\nUsing singularity to diffusion eq.\\n$\\\\frac{\\\\partial P_0}{\\\\partial t} = \\\\frac{1}{2} \\\\frac{\\\\partial^2 P_0}{\\\\partial z^2}$   Sol: $P_0(z, t) = \\\\frac{1}{\\\\sqrt{2\\\\pi t}}e^{\\\\frac{-z^2}{2t}}$\\n$\\\\hookrightarrow$ fundamental sol.\\nGoing from BS to Heat eq- requires\\na few non-obvious transformations and\\nchanges of vars.\\nUsing\\n$P(z, t) = \\\\int P_0(z-z', t)f(z')dz' = \\\\frac{1}{\\\\sqrt{2\\\\pi t}}\\\\int e^{\\\\frac{-(z-z')^2}{2t}}f(z')dz'$\\nEx: $f(z) = z^2$\\n$P(z, t) = \\\\int \\\\frac{1}{\\\\sqrt{2\\\\pi t}} e^{\\\\frac{-(z-z')^2}{2t}} z'^2 dz' = z^2 + t$\\nChecking by $P(z, t = 0) = f(z)$\\n$\\\\hookrightarrow$ $z^2 + t = z^2 = f(z)$\\nAnd the diff eq.\\n$\\\\frac{\\\\partial P}{\\\\partial t} - \\\\frac{1}{2} \\\\frac{\\\\partial^2 P}{\\\\partial z^2} = 0$ $\\\\Leftrightarrow$ $1 - \\\\frac{1}{2} (z| = 0$\\nInitial condition!\\nEx: $P(z, 0) = z^2 + 3z + 2 = F(z)$.\\n$P(z, t) = \\\\int^{\\\\infty}_{-\\\\infty} \\\\frac{1}{\\\\sqrt{2\\\\pi t}}e^{\\\\frac{-(z-z')^2}{2t}} (z'^2 + 3z' + 2)dz'$\\nLet $z' = w = \\\\frac{1}{\\\\sqrt{2\\\\pi t}}\\\\int^{\\\\infty}_{-\\\\infty} e^{\\\\frac{z^2-w^2+2wt}{2t}}(w^2 + 3w + 2)dw$\\n$\\\\Rightarrow -11 - \\\\int^{\\\\infty}_{-\\\\infty} (e^{\\\\frac{-w^2}{2t}}(w^2 + 3w + 2) + e^{\\\\frac{w}{2t}}(w^2 + 3w + 2) + \\\\dots) dw$\\n$\\\\dots = -11 - \\\\int^{\\\\infty}_{-\\\\infty} w^2 e^{\\\\frac{-w^2}{2t}}dw + 2 -11 - \\\\int e^{\\\\frac{-w^2}{2t}}$\\n$\\\\dots = \\\\frac{1}{t}E[w^2] + \\\\frac{3}{t}E[w]$\"}}"
      ]
     },
     "execution_count": 10,
     "metadata": {},
     "output_type": "execute_result"
    }
   ],
   "source": [
    "import json\n",
    "\n",
    "for page in pages_transcribed:\n",
    "    pages_transcribed[page] = json.loads(pages_transcribed[page])\n",
    "    \n",
    "pages_transcribed"
   ]
  },
  {
   "cell_type": "markdown",
   "metadata": {},
   "source": [
    "# 2. Categorize to Topics"
   ]
  },
  {
   "cell_type": "code",
   "execution_count": 38,
   "metadata": {},
   "outputs": [],
   "source": [
    "from config_categorization import CATEGORIZE_PROMPT\n",
    "\n",
    "class Topic(BaseModel):\n",
    "    name: str\n",
    "    description: str\n",
    "    pages: list[str]\n",
    "\n",
    "gemini_topics = GeminiFiles(model_name=\"gemini-exp-1206\", response_schema=list[Topic])\n",
    "\n",
    "content_to_categorize = \"\"\n",
    "for page in pages_transcribed:\n",
    "    content_to_categorize += f\"Page: {page}\\n\\n\\n\\n{pages_transcribed[page][\"content\"]}\\n\\n\"\n",
    "prompt = CATEGORIZE_PROMPT + \"\\n\\nHere are the notes you need to categorize:\\n\\n\" + content_to_categorize\n",
    "prompt\n",
    "\n",
    "topics = gemini_topics.query(prompt)"
   ]
  },
  {
   "cell_type": "code",
   "execution_count": 39,
   "metadata": {},
   "outputs": [
    {
     "data": {
      "text/plain": [
       "[Topic(name='Ito Calculus', description=\"Introduction to Ito Calculus, including the Ito process, Ito's Lemma, and its application to stochastic differential equations. Focus on Brownian motion and its properties, with extensions to multivariate cases.\", pages=['15.455x(12).jpg', '15.455x(13).jpg', '15.455x(8).jpg', '15.455x(20).jpg', '15.455x.jpg', '15.455x(1).jpg']),\n",
       " Topic(name='Black-Scholes Model', description='Derivation and analysis of the Black-Scholes model, including dynamic hedging, risk-neutral valuation, and extensions to the model. Discussion of the Greeks and their implications for risk management.', pages=['15.455x(14).jpg', '15.455x(2).jpg', '15.455x(15).jpg', '15.455x(19).jpg', '15.455x(16).jpg', '15.455x(17).jpg', '15.455x(18).jpg']),\n",
       " Topic(name='PDE Solutions and Applications', description='Methods for solving partial differential equations (PDEs) in finance, particularly focusing on the heat equation and its solutions. Includes techniques like change of variables, method of images, and the use of Gaussian solutions.', pages=['15.455x(3).jpg', '15.455x(4).jpg', '15.455x(24).jpg', '15.455x(9).jpg', '15.455x(21).jpg']),\n",
       " Topic(name='Gaussian Processes and Integrals', description='Discussion of Gaussian processes, their properties, and related integrals. Includes applications to Brownian motion, moment-generating functions, and calculations of expectations.', pages=['15.455x(5).jpg', '15.455x(6).jpg', '15.455x(10).jpg', '15.455x(11).jpg', '15.455x(7).jpg']),\n",
       " Topic(name='Fixed Income Modelling', description='Modeling of fixed income securities, including the use of Ito calculus to model interest rate dynamics. Discussion of models like Ornstein-Uhlenbeck and Cox-Ingersoll-Ross, and derivation of PDEs for bonds.', pages=['15.455x(22).jpg', '15.455x(23).jpg']),\n",
       " Topic(name='Review of Basic Probability and Finance Concepts', description='Review of foundational concepts from the first week including skewness, kurtosis, binomial and Poisson distributions, Gaussian moments, and autoregressive models.', pages=['15.455x(25).jpg'])]"
      ]
     },
     "execution_count": 39,
     "metadata": {},
     "output_type": "execute_result"
    }
   ],
   "source": [
    "topics"
   ]
  },
  {
   "cell_type": "code",
   "execution_count": 49,
   "metadata": {
    "lines_to_next_cell": 2
   },
   "outputs": [
    {
     "name": "stdout",
     "output_type": "stream",
     "text": [
      "[PosixPath('/Users/oscarjuliusadserballe/Google Drive/My Drive/Handwritten Notes/15.455x/15.455x(12).jpg'), PosixPath('/Users/oscarjuliusadserballe/Google Drive/My Drive/Handwritten Notes/15.455x/15.455x(13).jpg'), PosixPath('/Users/oscarjuliusadserballe/Google Drive/My Drive/Handwritten Notes/15.455x/15.455x(8).jpg'), PosixPath('/Users/oscarjuliusadserballe/Google Drive/My Drive/Handwritten Notes/15.455x/15.455x(20).jpg'), PosixPath('/Users/oscarjuliusadserballe/Google Drive/My Drive/Handwritten Notes/15.455x/15.455x.jpg'), PosixPath('/Users/oscarjuliusadserballe/Google Drive/My Drive/Handwritten Notes/15.455x/15.455x(1).jpg')]\n"
     ]
    },
    {
     "data": {
      "text/plain": [
       "TopicTranscription(title='Ito Calculus', keywords=['Ito Process', 'Stochastic Calculus', 'Brownian Motion', 'Chain Rule', 'Taylor Expansion', 'Differential Equations', 'Bachelier Model', 'Geometric Brownian Motion', 'Martingale'], summary=\"These notes discuss Ito calculus, focusing on its application to continuous-time finance. It covers Ito's lemma, stochastic differential equations, and their relation to deterministic calculus, with examples like the Bachelier and Geometric Brownian Motion models.\", content='# Ito Calculus\\n\\nIto process as a stochastic function where\\n\\n$dX_t = a dt + b dB_t$\\n\\n$X_t$ path-wise depends on $t$, so it\\'s the same as normal brownian motion\\n\\n$d(F(X))$? Chain rule, $dF(t, X) = \\\\frac{\\\\partial F}{\\\\partial t} dt + \\\\frac{\\\\partial F}{\\\\partial X} dx$\\n\\nBut $X$ is nowhere differentiable as $B_t$ is nowhere differentiable!\\n\\nIto\\'s lemma tries to introduce differentiability for probabilistic functions, using Taylor\\'s theorem.\\n\\n$F\\'(x) = \\\\lim_{\\\\Delta x \\\\to 0} (\\\\frac{F(X + \\\\Delta x) - F(x)}{\\\\Delta x}) \\\\rightarrow$ not possible.\\n\\nWe become satisfied w. probabilistic definition to ensure positivity:\\n$\\\\lim_{\\\\Delta x \\\\to 0} P[ ((\\\\frac{F(X + \\\\Delta x) - F(x))}{\\\\Delta x}) - F\\'(x))^2 > 0] = 0$\\n\\nWe just need a \"different\" that is expected convergence!\\n$\\\\lim_{\\\\Delta x \\\\to 0}E[-t..] = 0$\\n\\nFrom deterministic calc to prob. calc.\\n\\nIto\\'s lemma learns a stochastic chain rule, then can use taylor\\'s theorem to get rid of problem child.\\n\\nWhen using chain rule:\\n\\n$dF = \\\\frac{\\\\partial F}{\\\\partial X} dX + \\\\frac{\\\\partial F}{\\\\partial t} dt$\\n$= \\\\frac{\\\\partial F}{\\\\partial t} + \\\\frac{\\\\partial F}{\\\\partial X}(a dt + dB_t)$\\n\\nDeterministic change is $\\\\frac{\\\\partial F}{\\\\partial t}$, $\\\\frac{\\\\partial F}{\\\\partial X}dB_t$ term causes issues as $dB_t \\\\sim N(0, dt)$\\n\\n$F$ are to change in time\\n\\nReasoning embedded is $dB_t^2 = dt$!\\n\\n## Page 2\\n\\nTaylor expansion instead, s.t.\\n\\n$dF = \\\\frac{\\\\partial F}{\\\\partial t} dt + \\\\frac{\\\\partial F}{\\\\partial X} dx + \\\\frac{1}{2} \\\\frac{\\\\partial^2 F}{\\\\partial X^2} dX^2 + ...$\\n\\nOnly relevant terms as higher moments vanish.\\n\\n$E[dB_t] = 0$, $E[dB_t^2] = dt$, $E[dB_t^3] = 3 \\\\mu$, $E[dB_t^4] = 3 \\\\mu^2$\\n\\nFrom there, we can calculate $E[dX^n]$, output and its variance will grow at least at $dt$.\\n\\n$dF = \\\\frac{\\\\partial F}{\\\\partial t} dt + \\\\frac{\\\\partial F}{\\\\partial x}[adt + bdB_t] + \\\\frac{1}{2} \\\\frac{\\\\partial^2 F}{\\\\partial X^2} (b^2 dt)$\\n$= [\\\\frac{\\\\partial F}{\\\\partial t} + \\\\frac{b^2}{2} \\\\frac{\\\\partial^2 F}{\\\\partial X^2}]dt + [\\\\frac{\\\\partial F}{\\\\partial X}]dX$\\n$=[\\\\frac{\\\\partial F}{\\\\partial t} + \\\\frac{b^2}{2} \\\\frac{\\\\partial^2F}{\\\\partial X^2} + a\\\\frac{\\\\partial F}{\\\\partial X}]dt + [b\\\\frac{\\\\partial F}{\\\\partial X}]dB$\\n\\n$a.dt + b.dB$\\n\\nIto process!\\n\\nIto\\'s lemma:\\n\\n$dF = \\\\frac{\\\\partial F}{\\\\partial t} dt + \\\\frac{\\\\partial F}{\\\\partial X} dX + \\\\frac{b^2}{2} \\\\frac{\\\\partial^2 F}{\\\\partial X^2}dt$\\n\\nOn a term beyond usual chain rule.\\n\\nNote, $X = X(0)$\\n\\nSo, for ex, $F(t, B) = t^3 + B^3$\\n\\nthen $dX = dB$ ,i.e., Ito process\\n\\nsimply given by $dX_t = adt + bdB_t$\\n\\n## Page 3\\n\\nContinuous - Time Finance | 5\\n\\nMultiple Ito processes, $dX_i = a(t, X_1, ..., X_n)dt + b_i(t, x_1, x_n)dB_i$\\nAs higher-order Taylor Expansions look like,\\n\\n$F(\\\\vec{x}) = F(\\\\vec{a}) + \\\\sum_i \\\\frac{\\\\partial f}{\\\\partial x_i}|_a (X_i - a_i) + \\\\frac{1}{2} \\\\sum \\\\sum \\\\frac{\\\\partial^2 f}{\\\\partial x_i \\\\partial x_j}|_a (x_i - a_i)(x_j - a_j) + O(x_i^3)$\\n\\nMultivariate case : involve all cross-terms\\n\\nSo, Ito\\'s lemma becomes,\\n\\n$dF = \\\\frac{\\\\partial F}{\\\\partial t} dt + \\\\sum_i \\\\frac{\\\\partial F}{\\\\partial x_i} dx_i + \\\\frac{1}{2} \\\\sum \\\\rho_{ij} b_i b_j \\\\frac{\\\\partial^2 F}{\\\\partial X_i \\\\partial X_j}dt$\\n\\nThe heuristic is simple, if,\\n$(dB_i)^2 \\\\rightarrow dt$\\n$(dB_i)(dB_j) \\\\rightarrow \\\\rho_{ij} dt$\\n$(dX_i)^2 \\\\rightarrow b_i^2 dt$\\n$(dX_i)(dX_j) \\\\rightarrow \\\\rho_{ij}b_ib_j dt$\\n\\nCross-terms req. $\\\\rho_{ij}$\\nAs soon as $X_n$ is involved, b\\'s are too\\n\\nEx: $F = X_1 X_2$\\n\\n$dF = X_1 dX_2 + X_2 dX_1 + \\\\frac{2}{2}(dX_1)(dX_2)$\\n\\nLet\\'s imagine we have geometric B.M, then\\n$\\\\frac{dX_i}{X_i} = \\\\mu_i dt + \\\\sigma_i dB_i$\\n$\\\\frac{dF}{F} = \\\\frac{dX_2}{X_2} + \\\\frac{dX_1}{X_1} + \\\\frac{dX_1 dX_2}{X_1X_2}$\\n$= (\\\\mu_1 + \\\\mu_2) dt + \\\\sigma_1dB_1 + \\\\sigma_2dB_2 + \\\\frac{\\\\rho_{12}\\\\sigma_1\\\\sigma_2}{X_1X_2}dt$\\n\\nMartingale if $E[e^{-rt}S_t] = S_0$\\n\\nA bit on solving for PDEs, div.\\n\\nEx: $\\\\frac{\\\\partial V}{\\\\partial t} + \\\\frac{\\\\sigma^2}{2} \\\\frac{\\\\partial^2 V}{\\\\partial S^2}$\\n\\nLet $J = \\\\sigma^2(T - t)$\\n\\nBy chain rule\\n$dS = -\\\\sigma^2 dt$\\n$\\\\frac{\\\\partial V}{\\\\partial t} + \\\\frac{\\\\sigma^2}{2} \\\\frac{\\\\partial^2 V}{\\\\partial S^2} = - \\\\sigma^2 \\\\frac{\\\\partial V}{\\\\partial J} + \\\\frac{\\\\partial^2}{\\\\partial S^2} = 0$\\nNow we can use $P_0$ and its gen. solution.\\nBut! $P_0(z, t=0) \\\\rightarrow P_0(z, J=0)$. Remember to sub. back.\\n\\n1. An $\\\\sigma^2$ too much\\n2. Wrong sign, reverse time\\n$\\\\frac{\\\\partial V}{\\\\partial t} = \\\\frac{\\\\partial V}{\\\\partial J} \\\\frac{\\\\partial J}{\\\\partial t} = - \\\\sigma^2 \\\\frac{\\\\partial V}{\\\\partial t}$\\n$\\\\frac{\\\\partial V}{\\\\partial J} - \\\\frac{1}{2} \\\\frac{\\\\partial^2V}{\\\\partial S^2}=0$\\n\\n## Page 4\\n\\nGeneralizing Ito\\'s Lemma\\n\\n$dX_i = a_i(t, X_1, X_2, ...)dt + b_i(t, X_1, X_n)dB_i$\\n\\n$dF = \\\\frac{\\\\partial F}{\\\\partial t} dt + \\\\sum_i \\\\frac{\\\\partial F}{\\\\partial X_i} dX_i + \\\\frac{1}{2} \\\\sum \\\\rho_{ij} b_i b_j \\\\frac{\\\\partial^2 F}{\\\\partial X_i \\\\partial X_j}dt$\\n\\nHeuristic for covariance\\n\\n$(dB_i)^2 \\\\rightarrow dt$\\n$(dB_i)(dB_j) \\\\rightarrow \\\\rho_{ij} dt$\\n$(dX_i)^2 \\\\rightarrow b_i^2 dt$\\n$(dX_i)(dX_j) \\\\rightarrow \\\\rho_{ij} b_i b_j dt$\\n\\nMC methods always good to check against - esp. as we\\'ll have to stress them.\\n\\nThen once we get outside the domain of closed-form solutions...\\n\\n## Page 5\\n\\nContinuous - Time Finance | 1\\n\\nWe\\'ve considered Brownian Motion, and sources.\\n\\nA form for it, now it\\'s just getting the math that works, and it works bc. it violates continuity and differentiability.\\n\\nIto process, $dX = a(t, X)dt + b(t, X)dB$\\n\\nA generalization of our Brownian Motion.\\n\\nA probabilistic definition of a differential,\\n\\nMoving us from deterministic calc,\\n$\\\\rightarrow$ Convergence in probability.\\n\\nGetting differentiability by a Taylor series expansion bc. of square-root variance.\\n\\nIto\\'s Lemma thus looks like an expansion of chain rule,;\\n\\nFor some asset then whose price depends on the underlying stochastic asset\\'s path.\\n\\n$F = F(t, X)$\\n$dF = (\\\\frac{\\\\partial F}{\\\\partial t} dt + \\\\frac{\\\\partial F}{\\\\partial X} dX + \\\\frac{1}{2} \\\\frac{\\\\partial^2 F}{\\\\partial X^2} (dX)^2 + \\\\frac{1}{2} \\\\frac{\\\\partial^2 F}{\\\\partial t^2} (dt)^2)$\\n\\nChain rule part:\\n$\\\\frac{\\\\partial^2 F}{\\\\partial t \\\\partial X} dtdX + O(((dt)^3;(dX)^3, ...))$\\n$\\\\qquad \\\\qquad \\\\qquad \\\\qquad \\\\qquad O(dt^{3/2})$ drop out\\n$= \\\\frac{\\\\partial F}{\\\\partial t} dt + \\\\frac{\\\\partial F}{\\\\partial X} dX + \\\\frac{1}{2}\\\\frac{\\\\partial^2 F}{\\\\partial X^2} (dX)^2$\\n\\nAll of this only holds in expectation! $E[d\\\\theta_t)^2] = dt$\\n\\nAnd substitutions, w/ $dX$ stochastic process.\\n\\n## Page 6\\n$dF = \\\\frac{\\\\partial F}{\\\\partial t} dt + \\\\frac{\\\\partial F}{\\\\partial X} [adt + bd B_t] + \\\\frac{1}{2} \\\\frac{\\\\partial^2 F}{\\\\partial X^2} [adt + bdB_t]^2$\\n\\nonly $b^2(dB_t)^2 = b^2 dt$ survives\\n\\nThis Ito\\'s, Lemma\\n$dF = \\\\frac{\\\\partial F}{\\\\partial t} dt + \\\\frac{\\\\partial F}{\\\\partial X} dX + \\\\frac{b^2}{2} \\\\frac{\\\\partial^2 F}{\\\\partial X^2}dt$\\n\\nSometimes we want this expanded, so it\\'s in terms of dB.\\n\\nwhich can be further expanded, add. to chain rule.\\n\\n$(dX)^2 \\\\rightarrow b^2dt$\\n\\nAfter this bit of math, it\\'s simply a question of choosing models and looking at the SDEs.\\n\\n[Choosing our models] (And some example calc.)\\n\\nLet\\'s suppose, e.g.,\\n\\n$dS_t = \\\\mu dt + \\\\sigma d B_t$\\n\\n$\\\\int_{0}^{T} dS_t = \\\\mu \\\\int_0^T dt + \\\\sigma \\\\int d B_t\\'$\\n\\nThen we just integrate to get S.\\n\\nHere, unlike geometric, this\\n\\n$S_t - S_0 = \\\\mu T + \\\\sigma (B_T - B_0)$\\n\\nThis is the Bachelier model but it was quickly rejected, for not fitting stock prices as it allowed them to go neg.\\n\\n[Geometric BM] classic model: $\\\\frac{dS}{S} = \\\\mu dt + \\\\sigma d B$\\n\\nLet $F = \\\\int \\\\frac{dS}{S} = \\\\ln_0 S$ (Intermediate step) We can\\'t integrate this.\\n\\nAnd this is a prime candidate for Ito\\'s process, to set an exact differential where it would not otherwise be possible!\\n\\n$dF = d(log S) = [\\\\mu - \\\\frac{\\\\sigma^2}{2}] dt + \\\\sigma d B$\\n\\nIntegrate, Log$\\\\frac{S_T}{S_0}$\\nThis is linear allowing us to directly integrate!\\n\\nLog$\\\\frac{S_T - S_0}{S_0} = (\\\\mu - \\\\frac{\\\\sigma^2}{2})T + \\\\sigma (B_T - B_0)$\\n\\nAnd now, we can just revert to familiar forms, e.g, $S_0 e^{rT}$\\n', problem_space=\"The notes explore the problem of extending calculus to stochastic processes, specifically those driven by Brownian motion.  This is crucial in financial modeling where asset prices are often modeled as stochastic processes. Standard calculus fails because Brownian motion is nowhere differentiable. Ito's Lemma provides a way to handle differentiation in this context.\", examples=['**Bachelier Model:**  $dS_t = \\\\mu dt + \\\\sigma dB_t$.  This models the change in an asset price ($S_t$) as a drift term ($\\\\mu dt$) plus a random shock proportional to a Brownian motion increment ($\\\\sigma dB_t$).  The solution is $S_t - S_0 = \\\\mu T + \\\\sigma(B_T - B_0)$, showing a linear change over time with added Brownian noise. This model, although simple, allows for negative asset prices, making it unrealistic.', \"**Geometric Brownian Motion (GBM):**  $\\\\frac{dS}{S} = \\\\mu dt + \\\\sigma dB$.  Here, the *percentage* change in the asset price is modeled as a drift plus a random shock. This avoids negative prices.  Ito's Lemma is used to derive the change in the logarithm of the price: $d(\\\\,log S) = [\\\\mu - \\\\frac{\\\\sigma^2}{2}]dt + \\\\sigma dB$, using the result, you can derive the closed form solution, $\\\\ln(\\\\frac{S_T}{S_0}) = (\\\\mu - \\\\frac{\\\\sigma^2}{2})T + \\\\sigma(B_T - B_0)$\", \"**Multivariate Example:**  If $F = X_1X_2$, where $X_1$ and $X_2$ are Ito processes, then $dF = X_1dX_2 + X_2dX_1 + \\\\frac{1}{2}(2)(dX_1)(dX_2) = X_1dX_2 + X_2dX_1 + (dX_1)(dX_2)$. This illustrates how Ito's Lemma handles functions of multiple stochastic variables, including a cross-term arising from the quadratic variation.\"], reflection=\"These notes provide a good introduction to the core concepts of Ito calculus and its necessity in dealing with stochastic processes, especially in finance. The progression from the limitations of deterministic calculus to the probabilistic definition of a differential is well-explained. The emphasis on Taylor expansion and the 'heuristic' for handling differentials of Brownian motion ($dB_t$) is particularly helpful in grasping the intuition. The inclusion of multiple examples of its application makes the material more practical, connecting them directly to the concepts.\", questions=['How does the choice of the volatility function, $b(t, X)$, in the Ito process $dX = a(t, X)dt + b(t, X)dB$, impact the properties of the resulting stochastic process? Can different choices of $b(t,X)$ lead to qualitatively different behaviors?', 'The notes mention that the Bachelier model was rejected because it allows for negative asset prices.  Beyond this, what other statistical properties of real asset prices make GBM a more suitable model (or not) compared to the Bachelier model?', \"The notes briefly touch upon the connection between Ito's Lemma and PDEs. Can you elaborate on the Feynman-Kac formula and how it links solutions of certain PDEs to expectations of Ito processes?\"])"
      ]
     },
     "execution_count": 49,
     "metadata": {},
     "output_type": "execute_result"
    }
   ],
   "source": [
    "from transcription_prompts import SECOND_TRANSCRIPTION_PROMPT\n",
    "from datetime import datetime\n",
    "\n",
    "class TopicTranscription(BaseModel):\n",
    "    title: str\n",
    "    keywords: list[str]\n",
    "    summary: str\n",
    "    content: str\n",
    "    problem_space: str\n",
    "    examples: list[str]\n",
    "    reflection: str\n",
    "    questions: list[str]\n",
    "\n",
    "\n",
    "def transcribe_topic(\n",
    "        topic: Topic,\n",
    "        output_dir: Path\n",
    "    ):\n",
    "    gemini = GeminiFiles(response_schema=TopicTranscription, model_name=\"gemini-exp-1206\")\n",
    "\n",
    "    pages = [Path(folder_path / test_folder / page) for page in topic.pages]\n",
    "    \n",
    "    output = gemini.prompt_with_image(\n",
    "        prompt=SECOND_TRANSCRIPTION_PROMPT,\n",
    "        image_paths=pages\n",
    "    )\n",
    "\n",
    "    output_dir.mkdir(parents=True, exist_ok=True)\n",
    "    \n",
    "    safe_name = \"\".join(c for c in topic.name if c.isalnum() or c in (' ', '-', '_')).strip()\n",
    "    safe_name = safe_name.replace(' ', '_').lower()\n",
    "    \n",
    "    output_path = output_dir / f\"{safe_name}.json\"\n",
    "    with open(output_path, 'w', encoding='utf-8') as f:\n",
    "        output_data = {\n",
    "            \"topic_transcription\": output.model_dump(),\n",
    "            \"metadata\": {\n",
    "                \"source_folder\": str(test_folder),\n",
    "                \"source_pages\": topic.pages,\n",
    "                \"created_at\": datetime.now().isoformat()\n",
    "            }\n",
    "        }\n",
    "        json.dump(output_data, f, indent=2, ensure_ascii=False)\n",
    "    \n",
    "    return output\n",
    "\n",
    "transcribe_topic(topics[0], output_dir=Path(\"test\"))"
   ]
  }
 ],
 "metadata": {
  "kernelspec": {
   "display_name": "yesterdays_wisdom",
   "language": "python",
   "name": "yesterdays_wisdom"
  },
  "language_info": {
   "codemirror_mode": {
    "name": "ipython",
    "version": 3
   },
   "file_extension": ".py",
   "mimetype": "text/x-python",
   "name": "python",
   "nbconvert_exporter": "python",
   "pygments_lexer": "ipython3",
   "version": "3.12.4"
  }
 },
 "nbformat": 4,
 "nbformat_minor": 2
}
